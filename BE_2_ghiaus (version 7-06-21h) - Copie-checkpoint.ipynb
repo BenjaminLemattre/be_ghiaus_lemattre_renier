{
 "cells": [
  {
   "cell_type": "code",
   "execution_count": 1,
   "id": "c597c89d-92db-4126-a37b-1ae1736337b9",
   "metadata": {
    "tags": []
   },
   "outputs": [],
   "source": [
    "import numpy as np\n",
    "import pandas as pd\n",
    "import matplotlib.pyplot as plt\n",
    "\n",
    "\n",
    "import numpy as np\n",
    "import pandas as pd\n",
    "import matplotlib.pyplot as plt\n",
    "import dm4bem\n",
    "\n",
    "#phisical variables\n",
    "Text=20\n",
    "\n",
    "\n",
    "# P-controler gain\n",
    "Kp = 1e4            # almost perfect controller Kp -> ∞\n",
    "Kp = 1e-3           # no controller Kp -> 0\n",
    "\n",
    "#variables\n",
    "H=2.5 # m hauteur pièces \n",
    "h=2 # m hauteur portes\n",
    "v=1 # m hauteur fenêtre carrée\n",
    "p=0.8 # m epaisseur porte\n",
    "L=10 # m longueur latérale batiment\n",
    "l=4 # m largeur batiment\n",
    "\n",
    "Sg = v**2  # m² surface of the glass wall\n",
    "Sporte=p*h # m² surface of a door\n",
    "Slarg=l*H # m² surface of concrete and insultion of the largitudinal wall\n",
    "Slat=L/2 *H # m² surface of concrete and insultion of the lateral wall\n",
    "Swlatp=Slat -Sporte   # m² surface of concrete and insulation of the lateral wall with a door\n",
    "Swlatg=Slat -Sg # m² surface of concrete and insulation of the lateral wall with a window\n",
    "Swlargg=Slarg -Sg # m² surface of concrete and insulation of the largitudinal wall with a window\n",
    "Swlargp=Slarg -Sporte # m² surface of concrete and insulation of the lateral wall with a door\n",
    "no_t=35\n",
    "\n",
    "\n",
    "air = {'Density': 1.2,                      # kg/m³\n",
    "       'Specific heat': 1000}               # J/kg.K\n",
    "\n",
    "\n",
    "wall = {'Conductivity': [1.4, 0.027, 1.4],  # W/m.K\n",
    "        'Density': [2300, 55, 2500],        # kg/m³\n",
    "        'Specific heat': [880, 1210, 750],  # J/kg.K\n",
    "        'Width': [0.2, 0.08, 0.004],\n",
    "        'Surface': [5 * l**2, 5 * l**2, l**2],  # m²\n",
    "        'Slices': [4, 2, 1]}                # number of discretizations\n",
    "wall = pd.DataFrame(wall, index=['Concrete', 'Insulation', 'Glass'])\n",
    "\n",
    "\n",
    "\n",
    "\n",
    "ε_wLW = 0.9     # long wave wall emmisivity (concrete)\n",
    "α_wSW = 0.2     # absortivity white surface\n",
    "ε_gLW = 0.9     # long wave glass emmisivity (glass pyrex)\n",
    "τ_gSW = 0.83    # short wave glass transmitance (glass)\n",
    "α_gSW = 0.1     # short wave glass absortivity\n",
    "\n",
    "σ = 5.67e-8     # W/m².K⁴ Stefan-Bolzmann constant\n",
    "\n",
    "Fwg = 1 / 5     # view factor wall - glass\n",
    "\n",
    "Tm = 273+20   # mean temp for radiative exchange\n",
    "\n",
    "\n",
    "# convection coefficients, W/m² K\n",
    "h = pd.DataFrame([{'in': 4., 'out': 10}])\n",
    "\n",
    "\n",
    "\n",
    "\n",
    "\n",
    "\n",
    "A = np.zeros([43, 35])\n",
    "A[36, 0] , A[37,0] , A[38,0] , A[15,0] , A[16,0] , A[19,0] = 1, 1, 1, 1, -1, -1\n",
    "A[39, 1], A[19, 1], A[40, 1], A[35,1],A[41,1], A[42,1]= 1, 1, 1, 1, 1, 1\n",
    "A[13, 2], A[14, 2] = 1, -1\n",
    "A[11, 3], A[12, 3] = 1, -1\n",
    "A[10, 4], A[11, 4] = 1, -1\n",
    "A[8, 5], A[9, 5] = 1, -1\n",
    "A[6, 6], A[7, 6] = 1, -1\n",
    "A[5, 7], A[6, 7] = 1, -1\n",
    "A[3, 8], A[4, 8] = 1, -1\n",
    "A[1, 9], A[2, 9] = 1, -1\n",
    "A[0, 10], A[1, 10] = 1, -1\n",
    "A[16, 11], A[17, 11] = 1, -1\n",
    "A[17, 12], A[18, 12] = 1, -1\n",
    "A[20, 13], A[21, 13] = -1, 1\n",
    "A[22, 14], A[23, 14] = -1, 1\n",
    "A[23, 15], A[24, 15] = -1, 1\n",
    "A[25, 16], A[26, 16] = -1, 1\n",
    "A[27, 17], A[28, 17] = -1, 1\n",
    "A[28, 18], A[29, 18] = -1, 1\n",
    "A[30, 19], A[31, 19] = -1, 1\n",
    "A[32, 20], A[33, 20] = -1, 1\n",
    "A[33, 21], A[34, 21] = -1, 1\n",
    "A[4,22], A[36,22]= 1, -1\n",
    "A[9,23], A[37,23]= 1,-1\n",
    "A[14,24], A[38,24]= 1,-1\n",
    "A[18,25], A[39,25]= 1,-1\n",
    "A[20,26], A[40,26]= 1,-1\n",
    "A[25,27], A[41,27]= 1,-1\n",
    "A[30,28], A[42,28]= 1,-1\n",
    "A[2,29], A[3,29]= 1,-1\n",
    "A[7,30], A[8,30]= 1,-1\n",
    "A[12,31], A[13,31]= 1,-1\n",
    "A[22,32], A[21,32]= 1,-1\n",
    "A[27,33], A[26,33]= 1,-1\n",
    "A[32,34], A[31,34]= 1,-1\n",
    "\n",
    "\n",
    "\n",
    "#np.set_printoptions(suppress=False)\n",
    "#print(A)\n",
    "        \n",
    "G=np.zeros([43,43])\n",
    "G[0,0]=h.iloc[0]['out']*Slat\n",
    "G[1,1]=2* wall['Conductivity'][0]*Slat/wall['Width'][0]\n",
    "G[2,2]=2* wall['Conductivity'][0]*Slat/wall['Width'][0]\n",
    "G[3,3]=2* wall['Conductivity'][1]*Slat/wall['Width'][1]\n",
    "G[4,4]=2* wall['Conductivity'][1]*Slat/wall['Width'][1]\n",
    "G[5,5]=h.iloc[0]['out']*Swlargg\n",
    "G[6,6]=2* wall['Conductivity'][0]*Swlargg/wall['Width'][0]\n",
    "G[7,7]=2* wall['Conductivity'][0]*Swlargg/wall['Width'][0]\n",
    "G[8,8]=2* wall['Conductivity'][1]*Swlargg/wall['Width'][1]\n",
    "G[9,9]=2* wall['Conductivity'][1]*Swlargg/wall['Width'][1]\n",
    "G[10,10]=h.iloc[0]['out']*Swlatg\n",
    "G[11,11]=2* wall['Conductivity'][0]*Swlatg/wall['Width'][0]\n",
    "G[12,12]=2* wall['Conductivity'][0]*Swlatg/wall['Width'][0]\n",
    "G[13,13]=2* wall['Conductivity'][1]*Swlatg/wall['Width'][1]\n",
    "G[14,14]=2* wall['Conductivity'][1]*Swlatg/wall['Width'][1]\n",
    "G[15,15]=2* 2* wall['Conductivity'][2]*Sg/wall['Width'][2] # 2 windows\n",
    "G[16,16]=h.iloc[0]['in']*Swlargp\n",
    "G[17,17]=2* wall['Conductivity'][1]*Swlargp/wall['Width'][1]\n",
    "G[18,18]=2* wall['Conductivity'][1]*Swlargp/wall['Width'][1]\n",
    "G[19,19]=2* wall['Conductivity'][2]*Sporte/wall['Width'][2]\n",
    "G[20,20]=2* wall['Conductivity'][1]*Slat/wall['Width'][1]\n",
    "G[21,21]=2* wall['Conductivity'][1]*Slat/wall['Width'][1]\n",
    "G[22,22]=2* wall['Conductivity'][0]*Slat/wall['Width'][0]\n",
    "G[23,23]=2* wall['Conductivity'][0]*Slat/wall['Width'][0]\n",
    "G[24,24]=h.iloc[0]['out']*Slat\n",
    "G[25,25]=2* wall['Conductivity'][1]*Swlargg/wall['Width'][1]\n",
    "G[26,26]=2* wall['Conductivity'][1]*Swlargg/wall['Width'][1]\n",
    "G[27,27]=2* wall['Conductivity'][0]*Swlargg/wall['Width'][0]\n",
    "G[28,28]=2* wall['Conductivity'][0]*Swlargg/wall['Width'][0]\n",
    "G[29,29]=h.iloc[0]['out']*Swlargg\n",
    "G[30,30]=2* wall['Conductivity'][1]*Swlatp/wall['Width'][1]\n",
    "G[31,31]=2* wall['Conductivity'][1]*Swlatp/wall['Width'][1]\n",
    "G[32,32]=2* wall['Conductivity'][0]*Swlatp/wall['Width'][0]\n",
    "G[33,33]=2* wall['Conductivity'][0]*Swlatp/wall['Width'][0]\n",
    "G[34,34]=h.iloc[0]['out']*Swlatp\n",
    "G[35,35]=2* wall['Conductivity'][2]*Sporte/wall['Width'][2]\n",
    "G[36,36]=h.iloc[0]['in']*Slat\n",
    "G[37,37]=h.iloc[0]['in']*Swlargg\n",
    "G[38,38]=h.iloc[0]['in']*Swlatg\n",
    "G[39,39]=h.iloc[0]['in']*Swlargp\n",
    "G[40,40]=h.iloc[0]['in']*Slat\n",
    "G[41,41]=h.iloc[0]['in']*Swlargg\n",
    "G[42,42]=h.iloc[0]['in']*Swlatp\n",
    "\n",
    "#G=np.eye(43)\n",
    "\n",
    "C=np.zeros([35,35])\n",
    "C[0,0]=0\n",
    "C[1,1]=0\n",
    "C[2,2]=Swlatg*wall['Width'][1]*wall['Density'][1]*wall['Specific heat'][1]\n",
    "C[3,3]=Swlatg*wall['Width'][0]*wall['Density'][0]*wall['Specific heat'][0]\n",
    "C[4,4]=0\n",
    "C[5,5]=Swlargg*wall['Width'][1]*wall['Density'][1]*wall['Specific heat'][1]\n",
    "C[6,6]=Swlargg*wall['Width'][0]*wall['Density'][0]*wall['Specific heat'][0]\n",
    "C[7,7]=0\n",
    "C[8,8]=Slat*wall['Width'][1]*wall['Density'][1]*wall['Specific heat'][1]\n",
    "C[9,9]=Slat*wall['Width'][0]*wall['Density'][0]*wall['Specific heat'][0]\n",
    "C[10,10]=0\n",
    "C[11,11]=0\n",
    "C[12,12]=Swlargp*wall['Width'][0]*wall['Density'][0]*wall['Specific heat'][0]\n",
    "C[13,13]=Slat*wall['Width'][1]*wall['Density'][1]*wall['Specific heat'][1]\n",
    "C[14,14]=0\n",
    "C[15,15]=Slat*wall['Width'][1]*wall['Density'][0]*wall['Specific heat'][0]\n",
    "C[16,16]=Swlargg*wall['Width'][1]*wall['Density'][1]*wall['Specific heat'][1]\n",
    "C[17,17]=0\n",
    "C[18,18]=Swlargg*wall['Width'][0]*wall['Density'][0]*wall['Specific heat'][0]\n",
    "C[19,19]=Swlargp*wall['Width'][1]*wall['Density'][1]*wall['Specific heat'][1]\n",
    "C[20,20]=0\n",
    "C[21,21]=Swlargp*wall['Width'][0]*wall['Density'][0]*wall['Specific heat'][0]\n",
    "C[22,22]=0\n",
    "C[23,23]=0\n",
    "C[24,24]=0\n",
    "C[25,25]=0\n",
    "C[26,26]=0\n",
    "C[27,27]=0\n",
    "C[28,28]=0\n",
    "\n",
    "f = np.zeros(35)\n",
    "f[10]=1\n",
    "f[22]=1\n",
    "f[8]=1\n",
    "f[23]=1\n",
    "f[24]=1\n",
    "f[4]=1\n",
    "f[11]=1\n",
    "f[25]=1\n",
    "f[26]=1\n",
    "f[15]=1\n",
    "f[27]=1\n",
    "f[28]=1\n",
    "f[18]=1\n",
    "f[21]=1\n",
    "b = np.zeros(43)\n",
    "f = np.zeros(35)\n",
    "\n",
    "b[0]=Tm\n",
    "b[5]=Tm\n",
    "b[10]=Tm\n",
    "b[15]=Tm\n",
    "b[24]=Tm\n",
    "b[29]=Tm\n",
    "b[34]=Tm\n",
    "b[35]=Tm"
   ]
  },
  {
   "cell_type": "code",
   "execution_count": 2,
   "id": "f8dda7d2-f819-4ead-9ba8-7c602cb2eae3",
   "metadata": {},
   "outputs": [
    {
     "name": "stdout",
     "output_type": "stream",
     "text": [
      "When To = 1°C, the temperatures in steady-state are: [293. 293. 293. 293. 293. 293. 293. 293. 293. 293. 293. 293. 293. 293.\n",
      " 293. 293. 293. 293. 293. 293. 293. 293. 293. 293. 293. 293. 293. 293.\n",
      " 293. 293. 293. 293. 293. 293. 293.] °C\n",
      "The indoor temperature is: 293.000 °C\n"
     ]
    }
   ],
   "source": [
    "\n",
    "temp_steady_To = np.linalg.inv(A.T @ G @ A) @ (A.T @ G @ b)\n",
    "np.set_printoptions(precision=3)\n",
    "print('When To = 1°C, the temperatures in steady-state are:', temp_steady_To, '°C')\n",
    "print(f'The indoor temperature is: {temp_steady_To[-1]:.3f} °C')"
   ]
  },
  {
   "cell_type": "code",
   "execution_count": 3,
   "id": "b763889b-bad2-4e19-bb1a-45de4d574ad8",
   "metadata": {},
   "outputs": [],
   "source": [
    "y = np.ones(35)\n",
    "u = np.hstack([b[np.nonzero(b)], f[np.nonzero(f)]])\n",
    "\n",
    "\n",
    "[As, Bs, Cs, Ds] = dm4bem.tc2ss(A, G, b, C, f, y)"
   ]
  },
  {
   "cell_type": "code",
   "execution_count": 4,
   "id": "265b7d4a-3aa9-43ce-ba73-1247ff1245c6",
   "metadata": {},
   "outputs": [
    {
     "name": "stdout",
     "output_type": "stream",
     "text": [
      "[293. 293. 293. 293. 293. 293. 293. 293. 293. 293. 293. 293. 293. 293.\n",
      " 293. 293. 293. 293. 293. 293. 293. 293. 293. 293. 293. 293. 293. 293.\n",
      " 293. 293. 293. 293. 293. 293. 293.]\n",
      "[293. 293. 293. 293. 293. 293. 293. 293. 293. 293. 293. 293. 293. 293.\n",
      " 293. 293. 293. 293. 293. 293. 293. 293. 293. 293. 293. 293. 293. 293.\n",
      " 293. 293. 293. 293. 293. 293. 293.]\n",
      "Max error in steady-state between thermal circuit and state-space: 1.14e-13\n"
     ]
    }
   ],
   "source": [
    "yss = (-Cs @ np.linalg.inv(As) @ Bs + Ds) @ u\n",
    "ytc = np.linalg.inv(A.T @ G @ A) @ (A.T @ G @ b + f)\n",
    "\n",
    "print(np.array_str(yss, precision=3, suppress_small=True))\n",
    "print(np.array_str(ytc, precision=3, suppress_small=True))\n",
    "print(f'Max error in steady-state between thermal circuit and state-space:\\\n",
    " {max(abs(yss - ytc)):.2e}')"
   ]
  },
  {
   "cell_type": "code",
   "execution_count": 5,
   "id": "05c55741-1c82-41be-a2fa-4079d1b616df",
   "metadata": {},
   "outputs": [],
   "source": [
    "b = np.zeros(43)\n",
    "b[[0, 5, 10, 15, 24, 29, 34, 35]] = 1\n",
    "#print(b)\n",
    "f = np.zeros(35)\n",
    "f[[10, 22, 7, 23,4, 24, 11, 25, 26, 15, 18, 27, 28 ,21]] = 1\n",
    "#print(f)"
   ]
  },
  {
   "cell_type": "code",
   "execution_count": 6,
   "id": "909dd4a4-dcf0-401c-bf78-31f2d40774d6",
   "metadata": {},
   "outputs": [],
   "source": [
    "y=np.zeros(35)\n",
    "y[[0,1]]=1\n",
    "#print(y)"
   ]
  },
  {
   "cell_type": "code",
   "execution_count": 7,
   "id": "f7d9e06c-1525-4e5b-8e9b-bf9fea86e693",
   "metadata": {},
   "outputs": [
    {
     "data": {
      "text/plain": [
       "(13, 22)"
      ]
     },
     "execution_count": 7,
     "metadata": {},
     "output_type": "execute_result"
    }
   ],
   "source": [
    "[As, Bs, Cs, Ds] = dm4bem.tc2ss(A, G, b, C, f, y)\n",
    "#print(Bs)\n",
    "np.shape(Bs)"
   ]
  },
  {
   "cell_type": "code",
   "execution_count": 8,
   "id": "2ee52669-6ecb-4d5b-917f-4752dafb6388",
   "metadata": {},
   "outputs": [
    {
     "name": "stdout",
     "output_type": "stream",
     "text": [
      "Maximum time step: 6861.77-0.00j s\n"
     ]
    }
   ],
   "source": [
    "dtmax = min(-2. / np.linalg.eig(As)[0])\n",
    "print(f'Maximum time step: {dtmax:.2f} s')"
   ]
  },
  {
   "cell_type": "code",
   "execution_count": 9,
   "id": "97fd2fac-b034-490c-8149-e7e84fafeb5f",
   "metadata": {},
   "outputs": [
    {
     "name": "stdout",
     "output_type": "stream",
     "text": [
      "[[1. 1. 1. ... 1. 1. 1.]\n",
      " [1. 1. 1. ... 1. 1. 1.]\n",
      " [1. 1. 1. ... 1. 1. 1.]\n",
      " ...\n",
      " [0. 0. 0. ... 0. 0. 0.]\n",
      " [0. 0. 0. ... 0. 0. 0.]\n",
      " [0. 0. 0. ... 0. 0. 0.]]\n"
     ]
    }
   ],
   "source": [
    "dt=360\n",
    "duration = 3600 * 24 * 5        # [s]\n",
    "n = int(np.floor(duration / dt))\n",
    "t = np.arange(0, n * dt, dt)    # time\n",
    "\n",
    "# Vectors of state and input (in time)\n",
    "n_tC = As.shape[0]              # no of state variables (temps with capacity)\n",
    "# u = [To To To Tsp Phio Phii Qaux Phia]\n",
    "u = np.zeros([22, n])\n",
    "u[0:8, :] = np.ones([8, n])\n",
    "print (u)\n",
    "\n",
    "temp_exp = np.zeros([n_tC, t.shape[0]])\n",
    "temp_imp = np.zeros([n_tC, t.shape[0]])"
   ]
  },
  {
   "cell_type": "code",
   "execution_count": 10,
   "id": "79932517-dad6-4770-8c38-ad7ba423ce49",
   "metadata": {},
   "outputs": [],
   "source": [
    "I = np.eye(n_tC)\n",
    "for k in range(n - 1):\n",
    "    temp_exp[:, k + 1] = (I + dt * As) @\\\n",
    "        temp_exp[:, k] + dt * Bs @ u[:, k]\n",
    "    temp_imp[:, k + 1] = np.linalg.inv(I - dt * As) @\\\n",
    "        (temp_imp[:, k] + dt * Bs @ u[:, k])"
   ]
  },
  {
   "cell_type": "code",
   "execution_count": 11,
   "id": "d48930fa-9a3d-4c4b-a9fc-72a07741a0ec",
   "metadata": {},
   "outputs": [
    {
     "data": {
      "image/png": "[encoded data removed]",
      "text/plain": [
       "<Figure size 432x288 with 1 Axes>"
      ]
     },
     "metadata": {
      "needs_background": "light"
     },
     "output_type": "display_data"
    }
   ],
   "source": [
    "y_exp = Cs @ temp_exp + Ds @  u\n",
    "y_imp = Cs @ temp_imp + Ds @  u\n",
    "\n",
    "fig, ax = plt.subplots()\n",
    "ax.plot(t / 3600, y_exp.T, t / 3600, y_imp.T)\n",
    "ax.set(xlabel='Time [h]',\n",
    "       ylabel='$T_i$ [°C]',\n",
    "       title='Step input: To = 1°C')\n",
    "plt.show()"
   ]
  },
  {
   "cell_type": "markdown",
   "id": "9c4f69e5-12c8-4faf-a69c-1c2d0a81c52f",
   "metadata": {},
   "source": [
    "### Simulation with weather data\n",
    "\n",
    "Read the hourly weather data file from start date to end date. The data are for a year (the choice of 2000 for the year is arbitrary)."
   ]
  },
  {
   "cell_type": "code",
   "execution_count": 12,
   "id": "ca4916c7-33cd-4aa2-bf47-21076d7b902b",
   "metadata": {},
   "outputs": [],
   "source": [
    "filename = 'FRA_Lyon.074810_IWEC.epw'\n",
    "start_date = '2000-01-03 12:00:00'\n",
    "end_date = '2000-02-05 18:00:00'\n",
    "\n",
    "# Read weather data from Energyplus .epw file\n",
    "[data, meta] = dm4bem.read_epw(filename, coerce_year=None)\n",
    "weather = data[[\"temp_air\", \"dir_n_rad\", \"dif_h_rad\"]]\n",
    "del data\n",
    "weather.index = weather.index.map(lambda t: t.replace(year=2000))\n",
    "weather = weather[(weather.index >= start_date) & (\n",
    "    weather.index < end_date)]"
   ]
  },
  {
   "cell_type": "code",
   "execution_count": 13,
   "id": "20fb5f44-7dcb-40f2-9e94-15df272cea28",
   "metadata": {},
   "outputs": [],
   "source": [
    "surface_orientation = {'slope': 90,\n",
    "                       'azimuth': 0,\n",
    "                       'latitude': 45}\n",
    "albedo = 0.2\n",
    "rad_surf1 = dm4bem.sol_rad_tilt_surf(weather, surface_orientation, albedo)\n",
    "rad_surf1['Φt1'] = rad_surf1.sum(axis=1)"
   ]
  },
  {
   "cell_type": "code",
   "execution_count": 14,
   "id": "5dc4747e-5942-41ba-9615-1eccc738094b",
   "metadata": {},
   "outputs": [
    {
     "name": "stdout",
     "output_type": "stream",
     "text": [
      "                              To         Φt1\n",
      "2000-01-03 12:00:00+01:00   6.80   98.949619\n",
      "2000-01-03 12:06:00+01:00   6.92  106.191097\n",
      "2000-01-03 12:12:00+01:00   7.04  113.432575\n",
      "2000-01-03 12:18:00+01:00   7.16  120.674053\n",
      "2000-01-03 12:24:00+01:00   7.28  127.915531\n",
      "...                          ...         ...\n",
      "2000-02-05 16:36:00+01:00  10.40   47.573020\n",
      "2000-02-05 16:42:00+01:00  10.30   37.779765\n",
      "2000-02-05 16:48:00+01:00  10.20   27.986510\n",
      "2000-02-05 16:54:00+01:00  10.10   18.193255\n",
      "2000-02-05 17:00:00+01:00  10.00    8.400000\n",
      "\n",
      "[7971 rows x 2 columns]\n"
     ]
    }
   ],
   "source": [
    "data = pd.concat([weather['temp_air'], rad_surf1['Φt1']], axis=1)\n",
    "data = data.resample(str(dt) + 'S').interpolate(method='linear')\n",
    "data = data.rename(columns={'temp_air': 'To'})\n",
    "print(data)"
   ]
  },
  {
   "cell_type": "code",
   "execution_count": 15,
   "id": "5feff025-5f64-4187-b253-6b4edc2a0cf6",
   "metadata": {},
   "outputs": [
    {
     "name": "stdout",
     "output_type": "stream",
     "text": [
      "                              To         Φt1   Ti0   Ti1   Qa\n",
      "2000-01-03 12:00:00+01:00   6.80   98.949619  20.0  20.0  0.0\n",
      "2000-01-03 12:06:00+01:00   6.92  106.191097  20.0  20.0  0.0\n",
      "2000-01-03 12:12:00+01:00   7.04  113.432575  20.0  20.0  0.0\n",
      "2000-01-03 12:18:00+01:00   7.16  120.674053  20.0  20.0  0.0\n",
      "2000-01-03 12:24:00+01:00   7.28  127.915531  20.0  20.0  0.0\n",
      "...                          ...         ...   ...   ...  ...\n",
      "2000-02-05 16:36:00+01:00  10.40   47.573020  20.0  20.0  0.0\n",
      "2000-02-05 16:42:00+01:00  10.30   37.779765  20.0  20.0  0.0\n",
      "2000-02-05 16:48:00+01:00  10.20   27.986510  20.0  20.0  0.0\n",
      "2000-02-05 16:54:00+01:00  10.10   18.193255  20.0  20.0  0.0\n",
      "2000-02-05 17:00:00+01:00  10.00    8.400000  20.0  20.0  0.0\n",
      "\n",
      "[7971 rows x 5 columns]\n"
     ]
    }
   ],
   "source": [
    "data['Ti0'] = 20 * np.ones(data.shape[0])\n",
    "data['Ti1'] = 20 * np.ones(data.shape[0])\n",
    "data['Qa'] = 0 * np.ones(data.shape[0])\n",
    "print(data)"
   ]
  },
  {
   "cell_type": "code",
   "execution_count": 16,
   "id": "460319c2-c53e-4d30-88df-f66051379f89",
   "metadata": {},
   "outputs": [],
   "source": [
    "t = dt * np.arange(data.shape[0])"
   ]
  },
  {
   "cell_type": "code",
   "execution_count": 22,
   "id": "4ebcfc88-ad8e-4120-bd68-9a5da88e161d",
   "metadata": {},
   "outputs": [],
   "source": [
    "u = pd.concat([data['To'], data['To'], data['To'],data['To'],data['To'],data['To'],data['To'],data['To'],\n",
    "               α_wSW * wall['Surface']['Concrete'] * data['Φt1'],\n",
    "               τ_gSW * α_wSW * wall['Surface']['Glass'] * data['Φt1'],\n",
    "               data['Qa'],\n",
    "               α_gSW * wall['Surface']['Glass'] * data['Φt1'],data['To'],data['To'],data['To'],data['To'],data['To'],data['To'],\n",
    "               data['To'],data['To'],data['To'],data['To']], axis=1)"
   ]
  },
  {
   "cell_type": "code",
   "execution_count": 23,
   "id": "3366b887-56ba-4b61-a99e-adc69bf8312e",
   "metadata": {},
   "outputs": [
    {
     "name": "stdout",
     "output_type": "stream",
     "text": [
      "(13, 22)\n"
     ]
    }
   ],
   "source": [
    "temp_exp = 20 * np.ones([As.shape[0], u.shape[0]])\n",
    "print(np.shape(Bs))"
   ]
  },
  {
   "cell_type": "code",
   "execution_count": 24,
   "id": "cd83b9d4-9e2b-4943-a329-79389ba6583d",
   "metadata": {},
   "outputs": [],
   "source": [
    "for k in range(u.shape[0] - 1):\n",
    "    temp_exp[:, k + 1] = (I + dt * As) @ temp_exp[:, k]\\\n",
    "        + dt * Bs @ u.iloc[k, :]"
   ]
  },
  {
   "cell_type": "code",
   "execution_count": 26,
   "id": "f2468fa4-864a-463d-9b78-1eac235e5f54",
   "metadata": {},
   "outputs": [
    {
     "data": {
      "image/png": "[encoded data removed]",
      "text/plain": [
       "<Figure size 432x288 with 2 Axes>"
      ]
     },
     "metadata": {
      "needs_background": "light"
     },
     "output_type": "display_data"
    }
   ],
   "source": [
    "y_exp = Cs @ temp_exp + Ds @ u.to_numpy().T\n",
    "q_HVAC = Kp * (data['Ti0'] - y_exp[0, :])\n",
    "\n",
    "fig, axs = plt.subplots(2, 1)\n",
    "# plot indoor and outdoor temperature\n",
    "axs[0].plot(t / 3600, y_exp[0, :], label='$T_{indoor}$')\n",
    "axs[0].plot(t / 3600, data['To'], label='$T_{outdoor}$')\n",
    "axs[0].set(xlabel='Time [h]',\n",
    "           ylabel='Temperatures [°C]',\n",
    "           title='Simulation for weather')\n",
    "axs[0].legend(loc='upper right')\n",
    "\n",
    "# plot total solar radiation and HVAC heat flow\n",
    "axs[1].plot(t / 3600,  q_HVAC, label='$q_{HVAC}$')\n",
    "axs[1].plot(t / 3600, data['Φt1'], label='$Φ_{total}$')\n",
    "axs[1].set(xlabel='Time [h]',\n",
    "           ylabel='Heat flows [W]')\n",
    "axs[1].legend(loc='upper right')\n",
    "\n",
    "fig.tight_layout()"
   ]
  },
  {
   "cell_type": "code",
   "execution_count": null,
   "id": "83020d8b-5427-4186-b9f8-9e51aaba4037",
   "metadata": {},
   "outputs": [],
   "source": []
  },
  {
   "cell_type": "code",
   "execution_count": null,
   "id": "27eb975e-9f1b-406b-a3bc-045bbe392a22",
   "metadata": {},
   "outputs": [],
   "source": []
  }
 ],
 "metadata": {
  "kernelspec": {
   "display_name": "Python 3 (ipykernel)",
   "language": "python",
   "name": "python3"
  },
  "language_info": {
   "codemirror_mode": {
    "name": "ipython",
    "version": 3
   },
   "file_extension": ".py",
   "mimetype": "text/x-python",
   "name": "python",
   "nbconvert_exporter": "python",
   "pygments_lexer": "ipython3",
   "version": "3.10.5"
  }
 },
 "nbformat": 4,
 "nbformat_minor": 5
}
