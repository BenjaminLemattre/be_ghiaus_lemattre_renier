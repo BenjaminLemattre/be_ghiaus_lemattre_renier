{
 "cells": [
  {
   "cell_type": "markdown",
   "id": "35a53b91-f1eb-4c06-983f-3aaa32ac5a87",
   "metadata": {},
   "source": [
    "# Cube with two types of walls and feed-back indoor temperature control"
   ]
  },
  {
   "cell_type": "code",
   "execution_count": 54,
   "id": "764b77e2-3f93-4484-9842-6b328305d517",
   "metadata": {},
   "outputs": [],
   "source": [
    "import numpy as np\n",
    "import pandas as pd\n",
    "import matplotlib.pyplot as plt\n",
    "import dm4bem"
   ]
  },
  {
   "cell_type": "markdown",
   "id": "5a805ca0",
   "metadata": {},
   "source": [
    "## Choice of controller or not"
   ]
  },
  {
   "cell_type": "code",
   "execution_count": 55,
   "id": "be8b7721-790a-4502-8d02-b7dbd5cc68ea",
   "metadata": {},
   "outputs": [],
   "source": [
    "# P-controler gain Choose before running the different parts \n",
    "Kp = 1e4            # almost perfect controller Kp -> ∞\n",
    "#Kp = 1e-3           # no controller Kp -> 0"
   ]
  },
  {
   "cell_type": "markdown",
   "id": "d101012e-cfec-4e3d-9268-03e8cc68fceb",
   "metadata": {},
   "source": [
    "The dimension and surface areas of the building are:"
   ]
  },
  {
   "cell_type": "code",
   "execution_count": 56,
   "id": "5e16831e-5207-40bc-8c24-c983e45c9487",
   "metadata": {},
   "outputs": [
    {
     "data": {
      "text/plain": [
       "10000.0"
      ]
     },
     "execution_count": 56,
     "metadata": {},
     "output_type": "execute_result"
    }
   ],
   "source": [
    "Kp"
   ]
  },
  {
   "cell_type": "code",
   "execution_count": 57,
   "id": "e81f680f-dfcf-42a7-95f0-25869b407aee",
   "metadata": {},
   "outputs": [],
   "source": [
    "l1 = 5               # m length of the cubic room\n",
    "L1 = 3\n",
    "l2 = 3\n",
    "L2 = 2\n",
    "l3 = 3 \n",
    "L3 = L2 \n",
    "S1 = l1 * L1\n",
    "S2 = l2 * L2\n",
    "S3 = l3 * L3\n",
    "St = S1 + S2 + S3\n",
    "l = 5\n",
    "h = 3\n",
    "S_glass = 1.5\n",
    "S_door = 1.8"
   ]
  },
  {
   "cell_type": "markdown",
   "id": "a87fb7cf-f842-484d-b5d3-9394acbc642f",
   "metadata": {},
   "source": [
    "The building is ventilated; the volumis air flow rate is `Va_dot`: "
   ]
  },
  {
   "cell_type": "code",
   "execution_count": 58,
   "id": "0e052998-c323-4124-a60b-4b3f520e9664",
   "metadata": {},
   "outputs": [],
   "source": [
    "Va = l**3           # m³ volume of air\n",
    "ACH = 1             # air changes per hour\n",
    "Va_dot = ACH * Va / 3600    # m³/s air infiltration"
   ]
  },
  {
   "cell_type": "markdown",
   "id": "04249e0b-1f3d-47f5-b8f7-024135cda83b",
   "metadata": {},
   "source": [
    "The thermophysical propoerties of air:"
   ]
  },
  {
   "cell_type": "code",
   "execution_count": 59,
   "id": "6b636b8a-a7af-4ebe-9eee-578dea6f7742",
   "metadata": {},
   "outputs": [],
   "source": [
    "air = {'Density': 1.2,                      # kg/m³\n",
    "       'Specific heat': 1000}               # J/kg.K"
   ]
  },
  {
   "cell_type": "markdown",
   "id": "55dcaa59-47e6-4fbd-9c42-ad843a62b4d6",
   "metadata": {},
   "source": [
    "The thermophysical propoerties of the materials and surface areas of the materials in the wall:"
   ]
  },
  {
   "cell_type": "code",
   "execution_count": 60,
   "id": "2db86dfc-2fd4-4a32-94b2-a21dcd1286c8",
   "metadata": {},
   "outputs": [
    {
     "data": {
      "text/html": [
       "<div>\n",
       "<style scoped>\n",
       "    .dataframe tbody tr th:only-of-type {\n",
       "        vertical-align: middle;\n",
       "    }\n",
       "\n",
       "    .dataframe tbody tr th {\n",
       "        vertical-align: top;\n",
       "    }\n",
       "\n",
       "    .dataframe thead th {\n",
       "        text-align: right;\n",
       "    }\n",
       "</style>\n",
       "<table border=\"1\" class=\"dataframe\">\n",
       "  <thead>\n",
       "    <tr style=\"text-align: right;\">\n",
       "      <th></th>\n",
       "      <th>Conductivity</th>\n",
       "      <th>Density</th>\n",
       "      <th>Specific heat</th>\n",
       "      <th>Width</th>\n",
       "    </tr>\n",
       "  </thead>\n",
       "  <tbody>\n",
       "    <tr>\n",
       "      <th>Concrete</th>\n",
       "      <td>1.400</td>\n",
       "      <td>2300.00</td>\n",
       "      <td>880</td>\n",
       "      <td>0.200</td>\n",
       "    </tr>\n",
       "    <tr>\n",
       "      <th>Insulation</th>\n",
       "      <td>0.027</td>\n",
       "      <td>55.00</td>\n",
       "      <td>1210</td>\n",
       "      <td>0.080</td>\n",
       "    </tr>\n",
       "    <tr>\n",
       "      <th>Glass</th>\n",
       "      <td>1.400</td>\n",
       "      <td>2500.00</td>\n",
       "      <td>750</td>\n",
       "      <td>0.004</td>\n",
       "    </tr>\n",
       "    <tr>\n",
       "      <th>Door</th>\n",
       "      <td>1.000</td>\n",
       "      <td>0.95</td>\n",
       "      <td>1500</td>\n",
       "      <td>0.050</td>\n",
       "    </tr>\n",
       "  </tbody>\n",
       "</table>\n",
       "</div>"
      ],
      "text/plain": [
       "            Conductivity  Density  Specific heat  Width\n",
       "Concrete           1.400  2300.00            880  0.200\n",
       "Insulation         0.027    55.00           1210  0.080\n",
       "Glass              1.400  2500.00            750  0.004\n",
       "Door               1.000     0.95           1500  0.050"
      ]
     },
     "execution_count": 60,
     "metadata": {},
     "output_type": "execute_result"
    }
   ],
   "source": [
    "wall = {'Conductivity': [1.4, 0.027, 1.4, 1],  # W/m.K\n",
    "        'Density': [2300, 55, 2500, 0.95],        # kg/m³\n",
    "        'Specific heat': [880, 1210, 750, 1500],  # J/kg.K\n",
    "        'Width': [0.2, 0.08, 0.004, 0.05],}\n",
    "wall = pd.DataFrame(wall, index=['Concrete', 'Insulation', 'Glass', 'Door'])\n",
    "wall"
   ]
  },
  {
   "cell_type": "markdown",
   "id": "6a31b5ac-b975-4c14-b625-e110ee331778",
   "metadata": {},
   "source": [
    "**Thermal coductances**"
   ]
  },
  {
   "cell_type": "code",
   "execution_count": 61,
   "id": "ba8c81ea-14e7-4c7f-a3b7-a6a7cc1bf5c0",
   "metadata": {},
   "outputs": [],
   "source": [
    "# ventilation & advection\n",
    "Gv = Va_dot * air['Density'] * air['Specific heat']"
   ]
  },
  {
   "cell_type": "markdown",
   "id": "e0eeaa18-4cbb-4ac3-b7e9-98b3edbb863f",
   "metadata": {},
   "source": [
    "**Incidence matrix**"
   ]
  },
  {
   "cell_type": "code",
   "execution_count": 62,
   "id": "beaddf90-558e-45e4-a912-f5db92f2430a",
   "metadata": {},
   "outputs": [
    {
     "name": "stdout",
     "output_type": "stream",
     "text": [
      "[[ 1.  0.  0. ...  0.  0.  0.]\n",
      " [-1.  1.  0. ...  0.  0.  0.]\n",
      " [ 0. -1.  1. ...  0.  0.  0.]\n",
      " ...\n",
      " [ 0.  0.  0. ...  0.  0. -1.]\n",
      " [ 0.  0.  0. ...  0.  0.  0.]\n",
      " [ 0.  0.  0. ...  0.  0.  0.]] (58, 46)\n"
     ]
    }
   ],
   "source": [
    "A = np.zeros((58, 46))\n",
    "\n",
    "#Mur 01\n",
    "A[0,0], A[1,0] = 1, -1\n",
    "A[1,1], A[2,1] = 1, -1\n",
    "A[2,2], A[3,2] = 1, -1 \n",
    "A[3,3], A[4,3] = 1, -1\n",
    "A[4,4], A[5,4] = 1, -1\n",
    "\n",
    "A[5,5],A[56,5],A[46,5],A[8,5],A[9,5],A[10,5], A[14,5] = 1,1,-1,1,1,-1,-1 \n",
    "\n",
    "#Fenetre 1\n",
    "A[6,6],A[7,6] = 1, -1\n",
    "A[7,7],A[8,7] = 1, -1\n",
    "\n",
    "#Porte 12\n",
    "A[10,8],A[11,8] = 1, -1\n",
    "A[11,9],A[12,9] = 1, -1\n",
    "A[12,10], A[13,10] = 1, -1  \n",
    "\n",
    "#Mur 12\n",
    "A[14,11], A[15,11] = 1, -1\n",
    "A[15,12], A[16,12] = 1, -1\n",
    "A[16,13], A[17,13] = 1, -1\n",
    "A[17,14], A[18,14] = 1, -1\n",
    "A[18,15], A[19,15] = 1, -1\n",
    "\n",
    "A[13,16], A[19,16], A[23,16], A[29,16], A[35,16], A[55,16] = 1,1,1,1,1,1\n",
    "\n",
    "#Porte 02\n",
    "A[20,17], A[21,17] = 1,-1\n",
    "A[21,18], A[22,18] = 1,-1\n",
    "A[22,19], A[23,19] = 1,-1\n",
    "\n",
    "#Mur 02\n",
    "A[24,20], A[25,20] = 1,-1\n",
    "A[25,21], A[26,21] = 1,-1\n",
    "A[26,22], A[27,22] = 1,-1\n",
    "A[27,23], A[28,23] = 1,-1\n",
    "A[28,24], A[29,24] = 1,-1\n",
    "\n",
    "#Mur 32\n",
    "A[30,25], A[31,25] = 1,-1\n",
    "A[31,26], A[32,26] = 1,-1\n",
    "A[32,27], A[33,27] = 1,-1\n",
    "A[33,28], A[34,28] = 1,-1\n",
    "A[34,29], A[35,29] = 1,-1\n",
    "\n",
    "A[30,30], A[36,30],A[42,30],A[45,30], A[51,30], A[52,30], A[57,30] = -1,1,1,1,1,-1,1\n",
    "\n",
    "#Mur 03\n",
    "A[37,31], A[38,31] = 1,-1\n",
    "A[38,32], A[39,32] = 1,-1\n",
    "A[39,33], A[40,33] = 1,-1\n",
    "A[40,34], A[41,34] = 1,-1\n",
    "A[41,35], A[42,35] = 1,-1\n",
    "\n",
    "#Fenetre 3\n",
    "A[43,36], A[44,36] = 1,-1\n",
    "A[46,37], A[45,37] = 1,-1\n",
    "\n",
    "#Mur 31\n",
    "A[46,38], A[47,38] = 1,-1\n",
    "A[47,39], A[48,39] = 1,-1\n",
    "A[48,40], A[49,40] = 1,-1\n",
    "A[49,41], A[50,41] = 1,-1\n",
    "A[50,42], A[51,42] = 1,-1\n",
    "\n",
    "#Porte 32\n",
    "A[52,43], A[53,43] = 1,-1\n",
    "A[53,44], A[54,44] = 1,-1\n",
    "A[54,45], A[55,45] = 1,-1\n",
    "\n",
    "np.set_printoptions(suppress=False)\n",
    "print(A, np.shape(A))\n"
   ]
  },
  {
   "cell_type": "markdown",
   "id": "2c2db9a2-e612-4077-8cb1-9f14a3111fb2",
   "metadata": {},
   "source": [
    "**Conductance matrix**"
   ]
  },
  {
   "cell_type": "code",
   "execution_count": 63,
   "id": "bfcaae82-b594-446e-8db4-e8278e4e1268",
   "metadata": {},
   "outputs": [
    {
     "name": "stdout",
     "output_type": "stream",
     "text": [
      "[[3.30e+02 0.00e+00 0.00e+00 ... 0.00e+00 0.00e+00 0.00e+00]\n",
      " [0.00e+00 4.62e+02 0.00e+00 ... 0.00e+00 0.00e+00 0.00e+00]\n",
      " [0.00e+00 0.00e+00 0.00e+00 ... 0.00e+00 0.00e+00 0.00e+00]\n",
      " ...\n",
      " [0.00e+00 0.00e+00 0.00e+00 ... 7.20e+00 0.00e+00 0.00e+00]\n",
      " [0.00e+00 0.00e+00 0.00e+00 ... 0.00e+00 1.00e+04 0.00e+00]\n",
      " [0.00e+00 0.00e+00 0.00e+00 ... 0.00e+00 0.00e+00 1.00e+04]] (58, 58)\n"
     ]
    }
   ],
   "source": [
    "G = np.zeros((58,58))\n",
    "\n",
    "hout = 10\n",
    "hin = 4\n",
    "\n",
    "G[0,0] = hout * (l1+2*L1)*h\n",
    "G[1,1] = wall['Conductivity']['Concrete'] / (wall['Width']['Concrete'] /2) * (l1+2*L1)*h\n",
    "G[2,2] = G[2,2]\n",
    "G[3,3] = wall['Conductivity']['Insulation'] / (wall['Width']['Insulation'] /2) * (l1+2*L1)*h\n",
    "G[4,4] = G[3,3]\n",
    "G[5,5] = hin * (l1+2*L1)*h\n",
    "G[6,6] = 1/ ( 1 / (hout*S_glass) + 1/ (wall['Width']['Glass']/2 / wall['Conductivity']['Glass'] * S_glass))\n",
    "\n",
    "G[7,7] = wall['Conductivity']['Glass'] * S_glass / (wall['Width']['Glass']/2)\n",
    "G[8,8] = hin * S_glass\n",
    "\n",
    "G[9,9] = Gv \n",
    "\n",
    "G[10,10] = hin * S_door\n",
    "G[11,11] = wall['Conductivity']['Door'] / (wall['Width']['Door'] /2) * S_door\n",
    "G[12,12] = G[11,11]\n",
    "G[13,13] = G[10,10]\n",
    "\n",
    "G[14,14] = hin * l2*h\n",
    "G[15,15] = wall['Conductivity']['Concrete'] / (wall['Width']['Concrete'] /2) * l2*h\n",
    "G[16,16] = G[15,15]\n",
    "G[17,17] = wall['Conductivity']['Insulation'] / (wall['Width']['Insulation'] /2) * l2*h\n",
    "G[18,18] = G[17,17]\n",
    "G[19,19] = G[14,14]\n",
    "\n",
    "G[20,20] = hout * S_door\n",
    "G[21,21] = wall['Conductivity']['Door'] / (wall['Width']['Door'] /2) * S_door\n",
    "G[22,22] = G[21,21]\n",
    "G[23,23] = hin * S_door\n",
    "\n",
    "G[24,24] = hout * (L2+l2)*h\n",
    "G[25,25] = wall['Conductivity']['Concrete'] / (wall['Width']['Concrete'] /2) * (L2+l2)*h\n",
    "G[26,26] = G[25,25]\n",
    "G[27,27] = wall['Conductivity']['Insulation'] / (wall['Width']['Insulation'] /2) * (L2+l2)*h\n",
    "G[28,28] = G[27,27]\n",
    "G[29,29] = hin * (L2+l2)*h\n",
    "\n",
    "G[30,30] = hin * L2*h\n",
    "G[31,31] = wall['Conductivity']['Concrete'] / (wall['Width']['Concrete'] /2) * L2*h\n",
    "G[32,32] = G[31,31]\n",
    "G[33,33] = wall['Conductivity']['Insulation'] / (wall['Width']['Insulation'] /2) * L2*h\n",
    "G[34,34] = G[33,33]\n",
    "G[35,35] = hin * L2*h\n",
    "\n",
    "G[36,36] = Gv\n",
    "\n",
    "G[37,37] = hout * (L2+l3)*h\n",
    "G[38,38] = wall['Conductivity']['Concrete'] / (wall['Width']['Concrete'] /2) * (L2+l3)*h\n",
    "G[39,39] = G[38,38]\n",
    "G[40,40] = wall['Conductivity']['Insulation'] / (wall['Width']['Insulation'] /2) * (L2+l3)*h\n",
    "G[41,41] = G[40,40]\n",
    "G[42,42] = hin * (L2+l3)*h\n",
    "\n",
    "G[43,43] = 1/ ( 1 / (hout*S_glass) + 1/ (wall['Width']['Glass']/2 / wall['Conductivity']['Glass'] * S_glass))\n",
    "G[44,44] = wall['Conductivity']['Glass'] * S_glass / (wall['Width']['Glass']/2)\n",
    "G[45,45] = hin * S_glass\n",
    "\n",
    "G[46,46] = hin * l3*h\n",
    "G[47,47] = wall['Conductivity']['Insulation'] / (wall['Width']['Insulation'] /2) * l3*h\n",
    "G[48,48] = G[47,47]\n",
    "G[49,49] = wall['Conductivity']['Concrete'] / (wall['Width']['Concrete'] /2) * l3*h\n",
    "G[50,50] = G[49,49]\n",
    "G[51,51] = hin * l3*h\n",
    "\n",
    "G[52,52] = hin * S_door\n",
    "G[53,53] = wall['Conductivity']['Door'] / (wall['Width']['Door'] /2) * S_door\n",
    "G[54,54] = G[53,53]\n",
    "G[55,55] = hin * S_door\n",
    "\n",
    "G[56,56] = Kp\n",
    "G[57,57] = Kp\n",
    "\n",
    "print(G, np.shape(G))"
   ]
  },
  {
   "cell_type": "markdown",
   "id": "0d0d7f02-bc07-497f-a66b-0f07682530fb",
   "metadata": {},
   "source": [
    "**Capacity matrix**"
   ]
  },
  {
   "cell_type": "code",
   "execution_count": 64,
   "id": "ca2b5a02-7d8e-4292-8a91-46a4ffcc3200",
   "metadata": {},
   "outputs": [
    {
     "name": "stdout",
     "output_type": "stream",
     "text": [
      "[[0.00000e+00 0.00000e+00 0.00000e+00 ... 0.00000e+00 0.00000e+00\n",
      "  0.00000e+00]\n",
      " [0.00000e+00 1.33584e+07 0.00000e+00 ... 0.00000e+00 0.00000e+00\n",
      "  0.00000e+00]\n",
      " [0.00000e+00 0.00000e+00 0.00000e+00 ... 0.00000e+00 0.00000e+00\n",
      "  0.00000e+00]\n",
      " ...\n",
      " [0.00000e+00 0.00000e+00 0.00000e+00 ... 0.00000e+00 0.00000e+00\n",
      "  0.00000e+00]\n",
      " [0.00000e+00 0.00000e+00 0.00000e+00 ... 0.00000e+00 1.28250e+02\n",
      "  0.00000e+00]\n",
      " [0.00000e+00 0.00000e+00 0.00000e+00 ... 0.00000e+00 0.00000e+00\n",
      "  0.00000e+00]] (46, 46)\n"
     ]
    }
   ],
   "source": [
    "Ca = wall['Density'] * wall['Specific heat'] * wall['Width']\n",
    "Ca['Air'] = air['Density'] * air['Specific heat']\n",
    "\n",
    "C = np.zeros((46,46))\n",
    "C[1][1] = wall['Density']['Concrete'] * wall['Specific heat']['Concrete'] * wall['Width']['Concrete'] * (l1+2*L1)*h\n",
    "C[3][3] = wall['Density']['Insulation'] * wall['Specific heat']['Insulation'] * wall['Width']['Insulation'] * (l1+2*L1)*h\n",
    "C[5][5] = Ca['Air'] * (l1*L1)*h\n",
    "C[6][6] = Ca['Glass'] * S_glass\n",
    "C[9][9] = wall['Density']['Door'] * wall['Specific heat']['Door'] * wall['Width']['Door'] * S_door\n",
    "C[12][12] = wall['Density']['Concrete'] * wall['Specific heat']['Concrete'] * wall['Width']['Concrete'] * l2*h\n",
    "C[14][14] = wall['Density']['Insulation'] * wall['Specific heat']['Insulation'] * wall['Width']['Insulation'] * l2*h\n",
    "C[16][16] = Ca['Air'] * (l2*L2)*h\n",
    "C[18][18] = wall['Density']['Door'] * wall['Specific heat']['Door'] * wall['Width']['Door'] * S_door\n",
    "C[21][21] = wall['Density']['Concrete'] * wall['Specific heat']['Concrete'] * wall['Width']['Concrete'] * (l2+L2)*h\n",
    "C[23][23] = wall['Density']['Insulation'] * wall['Specific heat']['Insulation'] * wall['Width']['Insulation'] * (l2+L2)*h\n",
    "C[28][28] = wall['Density']['Concrete'] * wall['Specific heat']['Concrete'] * wall['Width']['Concrete'] * l3*h\n",
    "C[26][26] = wall['Density']['Insulation'] * wall['Specific heat']['Insulation'] * wall['Width']['Insulation'] * l3*h\n",
    "C[30][30] = Ca['Air'] * (l3*L3)*h\n",
    "C[32][32] = wall['Density']['Concrete'] * wall['Specific heat']['Concrete'] * wall['Width']['Concrete'] * (l3+L3)*h\n",
    "C[34][34] = wall['Density']['Insulation'] * wall['Specific heat']['Insulation'] * wall['Width']['Insulation'] * (l3+L3)*h\n",
    "C[36][36] = Ca['Glass'] * S_glass\n",
    "C[41][41] = wall['Density']['Insulation'] * wall['Specific heat']['Insulation'] * wall['Width']['Insulation'] * l3*h\n",
    "C[39][39] = wall['Density']['Concrete'] * wall['Specific heat']['Concrete'] * wall['Width']['Concrete'] * l3*h\n",
    "C[44][44] = wall['Density']['Door'] * wall['Specific heat']['Door'] * wall['Width']['Door'] * S_door\n",
    "\n",
    "print(C, np.shape(C))"
   ]
  },
  {
   "cell_type": "markdown",
   "id": "efedaf69-3d44-427b-8901-0a68be3edabd",
   "metadata": {
    "tags": []
   },
   "source": [
    "**Input vector**\n",
    "\n",
    "The vector of *temperature sources* is **b**. It has the size of the number of branches (in this example 12) and it's element corresponding to a branch without a source is zero. If the flow in a source is from low potential to high potential (i.e. from - to +), the source is positive [🔗](https://en.wikipedia.org/wiki/Passive_sign_convention) . Let's give some arbitrary non-zero values to the temperature sources:"
   ]
  },
  {
   "cell_type": "code",
   "execution_count": 65,
   "id": "0c50c546-b80e-4a88-83e2-bac965021651",
   "metadata": {},
   "outputs": [],
   "source": [
    "Tout = 14\n",
    "Tref = 14\n",
    "b = np.zeros(58)\n",
    "b[[0, 6, 9, 56, 20, 24, 57, 36, 37, 43]] = Tout,Tout,Tout,Tref,Tout,Tout,Tref,Tout,Tout,Tout"
   ]
  },
  {
   "cell_type": "markdown",
   "id": "236ad1c6-64ac-4e42-b7cb-46be011ccc75",
   "metadata": {
    "tags": []
   },
   "source": [
    "The vector of *heat sources* is **f**. It has the size of the number of nodes (in this example 8) and its element corresponding to a node without a heat source is zero. Let's give some arbitrary non-zero values to the heat sources:"
   ]
  },
  {
   "cell_type": "code",
   "execution_count": 66,
   "id": "5215c4c8-82d1-4bbe-aa4f-ba791b6b1b92",
   "metadata": {
    "tags": []
   },
   "outputs": [],
   "source": [
    "f=np.zeros(46)\n",
    "f[[0,4,5,6,8,10,11,15,17,19,20,24,25,29,30,31,35,36,38,42,43,45]] = 1,1,1,1,1,1,1,1,1,1,1,1,1,1,1,1,1,1,1,1,1,1\n",
    "f=np.zeros(46)"
   ]
  },
  {
   "cell_type": "markdown",
   "id": "5dee59ff-9153-498a-ab9b-a1bedb6b5d35",
   "metadata": {},
   "source": [
    "The vector of outputs is **y**. It has the size of the number of nodes (in this example 8). The non-zero values of **y** indicate the nodes that are the outputs of the model. Let's assume that all temperatures are of interest:"
   ]
  },
  {
   "cell_type": "code",
   "execution_count": 67,
   "id": "6ced5a80-70fb-4c74-b3ad-54003c038871",
   "metadata": {},
   "outputs": [],
   "source": [
    "y = np.ones(46)"
   ]
  },
  {
   "cell_type": "markdown",
   "id": "a29cd51c-08bf-4395-a070-d2c074eee82d",
   "metadata": {
    "tags": []
   },
   "source": [
    "The inputs vector **u** is:\n",
    "\n",
    "$$\\mathbf{u} = \\begin{bmatrix}\n",
    "\\mathbf{b}\\\\ \n",
    "\\mathbf{f}\n",
    "\\end{bmatrix}$$\n",
    "\n",
    "where **b** is  the vector of temperature sources and **f** the vector of heat flow sources. Note that in Python, a vector is a row. The **u** vector is obtained as an horizontal stack of the sources that are in the circuit (non-zero elements of **b** and **f**):"
   ]
  },
  {
   "cell_type": "code",
   "execution_count": 68,
   "id": "3780da0d-8598-4f86-bb83-fc64e91fede7",
   "metadata": {},
   "outputs": [
    {
     "data": {
      "text/plain": [
       "array([14., 14., 14., 14., 14., 14., 14., 14., 14., 14.])"
      ]
     },
     "execution_count": 68,
     "metadata": {},
     "output_type": "execute_result"
    }
   ],
   "source": [
    "u = np.hstack([b[np.nonzero(b)], f[np.nonzero(f)]])\n",
    "u"
   ]
  },
  {
   "cell_type": "markdown",
   "id": "deea7b37-b7b8-4a43-9c86-67bf168161c1",
   "metadata": {},
   "source": [
    "## State-space model without controller"
   ]
  },
  {
   "cell_type": "code",
   "execution_count": 69,
   "id": "23c9de06-8be7-4dff-a734-027c31349e27",
   "metadata": {},
   "outputs": [],
   "source": [
    "[As, Bs, Cs, Ds] = dm4bem.tc2ss(A, G, b, C, f, y)"
   ]
  },
  {
   "cell_type": "code",
   "execution_count": 70,
   "id": "2fc42d76-0926-4d1d-8444-7ed43b961022",
   "metadata": {},
   "outputs": [
    {
     "name": "stdout",
     "output_type": "stream",
     "text": [
      "without controller and with Text = 14°C\n",
      "[1.40000000e+01 1.40000000e+01 1.40024537e+01 1.40024537e+01\n",
      " 1.40024537e+01 1.40024537e+01 1.40024528e+01 1.40024528e+01\n",
      " 1.40011042e+01 1.40009693e+01 1.40008344e+01 1.40022478e+01\n",
      " 1.40021890e+01 1.40021302e+01 1.40009105e+01 1.39996908e+01\n",
      " 1.39994849e+01 1.39998712e+01 1.39998390e+01 1.39998069e+01\n",
      " 1.39999851e+01 1.39999744e+01 1.39999638e+01 1.39997430e+01\n",
      " 1.39995222e+01 1.39953980e+01 1.39954850e+01 1.39955720e+01\n",
      " 1.39973762e+01 1.39991805e+01 1.39950935e+01 1.39998580e+01\n",
      " 1.39997566e+01 1.39996552e+01 1.39975518e+01 1.39954485e+01\n",
      " 2.85672892e-05 9.88574387e+00 4.80160141e+00 8.86021834e+00\n",
      " 1.29188353e+01 1.31145186e+01 1.33102019e+01 1.39970896e+01\n",
      " 1.39972892e+01 1.39974888e+01]\n"
     ]
    },
    {
     "data": {
      "image/png": "[encoded data removed]",
      "text/plain": [
       "<Figure size 432x288 with 1 Axes>"
      ]
     },
     "metadata": {
      "needs_background": "light"
     },
     "output_type": "display_data"
    }
   ],
   "source": [
    "temperatures_ss = np.linalg.inv(A.T @ G @ A) @ (A.T @ G @ b)\n",
    "\n",
    "print('without controller and with Text = 14°C')\n",
    "plt.plot(temperatures_ss)\n",
    "print(temperatures_ss)"
   ]
  },
  {
   "cell_type": "code",
   "execution_count": 71,
   "id": "ab6b797e",
   "metadata": {},
   "outputs": [
    {
     "name": "stdout",
     "output_type": "stream",
     "text": [
      "[14.    14.    14.002 14.002 14.002 14.002 14.002 14.002 14.001 14.001\n",
      " 14.001 14.002 14.002 14.002 14.001 14.    13.999 14.    14.    14.\n",
      " 14.    14.    14.    14.    14.    13.995 13.995 13.996 13.997 13.999\n",
      " 13.995 14.    14.    14.    13.998 13.995  0.     9.886  4.802  8.86\n",
      " 12.919 13.115 13.31  13.997 13.997 13.997]\n",
      "[14.    14.    14.002 14.002 14.002 14.002 14.002 14.002 14.001 14.001\n",
      " 14.001 14.002 14.002 14.002 14.001 14.    13.999 14.    14.    14.\n",
      " 14.    14.    14.    14.    14.    13.995 13.995 13.996 13.997 13.999\n",
      " 13.995 14.    14.    14.    13.998 13.995  0.     9.886  4.802  8.86\n",
      " 12.919 13.115 13.31  13.997 13.997 13.997]\n",
      "Max error in steady-state between thermal circuit and state-space: 1.10e-11\n"
     ]
    }
   ],
   "source": [
    "yss = (-Cs @ np.linalg.inv(As) @ Bs + Ds) @ u\n",
    "ytc = np.linalg.inv(A.T @ G @ A) @ (A.T @ G @ b + f)\n",
    "\n",
    "print(np.array_str(yss, precision=3, suppress_small=True))\n",
    "print(np.array_str(ytc, precision=3, suppress_small=True))\n",
    "print(f'Max error in steady-state between thermal circuit and state-space:\\\n",
    " {max(abs(yss - ytc)):.2e}')"
   ]
  },
  {
   "cell_type": "markdown",
   "id": "5aa57452",
   "metadata": {},
   "source": [
    "## Dynamic model with controller"
   ]
  },
  {
   "cell_type": "code",
   "execution_count": 72,
   "id": "3919128b",
   "metadata": {},
   "outputs": [],
   "source": [
    "Tout = 14\n",
    "Tref = 20\n",
    "b = np.zeros(58)\n",
    "b[[0, 6, 9, 56, 20, 24, 57, 36, 37, 43]] = Tout,Tout,Tout,Tref,Tout,Tout,Tref,Tout,Tout,Tout\n",
    "f = np.zeros(46)\n",
    "f[[0,4,5,6,8,10,11,15,17,19,20,24,25,29,30,31,35,36,38,42,43,45]] = 1"
   ]
  },
  {
   "cell_type": "code",
   "execution_count": 73,
   "id": "69180698",
   "metadata": {},
   "outputs": [],
   "source": [
    "y=np.zeros(46)\n",
    "y[[5,30]]=1\n",
    "#print(y)"
   ]
  },
  {
   "cell_type": "code",
   "execution_count": 74,
   "id": "f8287699",
   "metadata": {},
   "outputs": [
    {
     "data": {
      "text/plain": [
       "(20, 32)"
      ]
     },
     "execution_count": 74,
     "metadata": {},
     "output_type": "execute_result"
    }
   ],
   "source": [
    "[As, Bs, Cs, Ds] = dm4bem.tc2ss(A, G, b, C, f, y)\n",
    "#print(Bs)\n",
    "np.shape(Bs)"
   ]
  },
  {
   "cell_type": "code",
   "execution_count": 75,
   "id": "10648676",
   "metadata": {},
   "outputs": [
    {
     "name": "stdout",
     "output_type": "stream",
     "text": [
      "Maximum time step: 4.27 s\n"
     ]
    }
   ],
   "source": [
    "dtmax = min(-2. / np.linalg.eig(As)[0])\n",
    "print(f'Maximum time step: {dtmax:.2f} s')"
   ]
  },
  {
   "cell_type": "code",
   "execution_count": 76,
   "id": "65c26a2f",
   "metadata": {},
   "outputs": [
    {
     "name": "stdout",
     "output_type": "stream",
     "text": [
      "108000\n",
      "[[14. 14. 14. ... 14. 14. 14.]\n",
      " [14. 14. 14. ... 14. 14. 14.]\n",
      " [14. 14. 14. ... 14. 14. 14.]\n",
      " ...\n",
      " [ 1.  1.  1. ...  1.  1.  1.]\n",
      " [ 1.  1.  1. ...  1.  1.  1.]\n",
      " [ 1.  1.  1. ...  1.  1.  1.]]\n"
     ]
    }
   ],
   "source": [
    "dt=4 #Need to choose dt < dtmax\n",
    "duration = 3600 * 24 * 5        # [s]\n",
    "n = int(np.floor(duration / dt))\n",
    "print(n)\n",
    "t = np.arange(0, n * dt, dt)    # time\n",
    "\n",
    "# Vectors of state and input (in time)\n",
    "n_tC = As.shape[0]              # no of state variables (temps with capacity)\n",
    "# u = [Tout,Tout,Tout,Tref,Tout,Tout,Tref,Tout,Tout,Tout,f[0,4,5,6,8,10,11,15,17,19,20,24,25,29,30,31,35,36,38,42,43,45]]\n",
    "u = np.zeros([32, n])\n",
    "u[0:3, :] = Tout*np.ones([3, n])\n",
    "u[4, :] = Tref*np.ones([1, n])\n",
    "u[5:7,:] = Tout*np.ones([2, n])\n",
    "u[8, :] = Tref*np.ones([1, n])\n",
    "u[9:12, :] = Tout*np.ones([3, n])\n",
    "u[13:32, :] = np.ones([19,n])\n",
    "print (u)\n",
    "\n",
    "temp_exp = np.zeros([n_tC, t.shape[0]])\n",
    "temp_imp = np.zeros([n_tC, t.shape[0]])"
   ]
  },
  {
   "cell_type": "code",
   "execution_count": 77,
   "id": "dfd2e797",
   "metadata": {},
   "outputs": [
    {
     "name": "stdout",
     "output_type": "stream",
     "text": [
      "(20, 32) (32, 108000)\n"
     ]
    }
   ],
   "source": [
    "I = np.eye(n_tC)\n",
    "print(np.shape(Bs), np.shape(u))\n",
    "for k in range(n - 1):\n",
    "    temp_exp[:, k + 1] = (I + dt * As) @\\\n",
    "        temp_exp[:, k] + dt * Bs @ u[:, k]\n",
    "    temp_imp[:, k + 1] = np.linalg.inv(I - dt * As) @\\\n",
    "        (temp_imp[:, k] + dt * Bs @ u[:, k])"
   ]
  },
  {
   "cell_type": "code",
   "execution_count": 78,
   "id": "5d2e65f9",
   "metadata": {},
   "outputs": [
    {
     "data": {
      "image/png": "[encoded data removed]",
      "text/plain": [
       "<Figure size 432x288 with 1 Axes>"
      ]
     },
     "metadata": {
      "needs_background": "light"
     },
     "output_type": "display_data"
    }
   ],
   "source": [
    "y_exp = Cs @ temp_exp + Ds @  u\n",
    "y_imp = Cs @ temp_imp + Ds @  u\n",
    "\n",
    "fig, ax = plt.subplots()\n",
    "ax.plot(t / 3600, y_exp.T,'-r')\n",
    "ax.plot(t / 3600, y_imp.T, '-b')\n",
    "ax.set(xlabel='Time [h]',\n",
    "       ylabel='$T_i$ [°C]',\n",
    "       title='Step input: To = 14°C')\n",
    "plt.show()"
   ]
  },
  {
   "cell_type": "code",
   "execution_count": null,
   "id": "152dd79d",
   "metadata": {},
   "outputs": [],
   "source": []
  }
 ],
 "metadata": {
  "kernelspec": {
   "display_name": "Python 3 (ipykernel)",
   "language": "python",
   "name": "python3"
  },
  "language_info": {
   "codemirror_mode": {
    "name": "ipython",
    "version": 3
   },
   "file_extension": ".py",
   "mimetype": "text/x-python",
   "name": "python",
   "nbconvert_exporter": "python",
   "pygments_lexer": "ipython3",
   "version": "3.10.5"
  }
 },
 "nbformat": 4,
 "nbformat_minor": 5
}
