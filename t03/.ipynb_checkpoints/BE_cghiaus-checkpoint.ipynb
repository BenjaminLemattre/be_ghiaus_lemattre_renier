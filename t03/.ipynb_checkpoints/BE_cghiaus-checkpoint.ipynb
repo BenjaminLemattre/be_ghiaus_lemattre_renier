{
 "cells": [
  {
   "cell_type": "markdown",
   "id": "35a53b91-f1eb-4c06-983f-3aaa32ac5a87",
   "metadata": {},
   "source": [
    "# Smart Energy building\n",
    "LEMATTRE Benjamin - RENIER Julie"
   ]
  },
  {
   "cell_type": "code",
   "execution_count": null,
   "id": "764b77e2-3f93-4484-9842-6b328305d517",
   "metadata": {},
   "outputs": [],
   "source": [
    "import numpy as np\n",
    "import pandas as pd\n",
    "import matplotlib.pyplot as plt\n",
    "import dm4bem"
   ]
  },
  {
   "cell_type": "markdown",
   "id": "a9ac630d",
   "metadata": {},
   "source": [
    "### I) Introduction\n",
    "\n",
    "Les bâtiments consomment généralement environ 40 % de la consommation globale d'énergie et sont également responsables d’une part des émissions de carbone. La modélisation et le contrôle énergétique des bâtiments aident à développer des stratégies de réduction globale de la consommation d'énergie d'un bâtiment.\n",
    "Un modèle de simulation de bâtiment typique a des entrées comme: la météo locale ; la géométrie du bâtiment ; les caractéristiques de l'enveloppe ; les gains de chaleur interne provenant de l'éclairage, des occupants et des charges d'équipement ; les spécifications des systèmes de chauffage, de ventilation et de refroidissement (HVAC).\n",
    "L'objectif du BE était de concevoir un modèle de bâtiment et d'entreprendre des travaux de construction pertinents et des simulations d'énergie à l'aide de MATLAB avec les entrées appropriées et discuter des résultats.\n",
    "\n",
    "### II) Hypothèses\n",
    "\n",
    "Lors de la réalisation de la simulation du bâtiment, les hypothèses suivantes ont été prises en compte :\n",
    "Température de surface uniforme sur chaque mur ou partie de mur.\n",
    "Transfert de chaleur unidimensionnel dans chaque mur ou partie de mur.\n",
    "Répartition diffuse du rayonnement solaire dans les pièces.\n",
    "L'échange de rayonnement LW entre les surfaces extérieures et le sol est négligé.\n",
    "Tous les transferts de chaleur sont traités comme des phénomènes linéaires.\n",
    "On considère que la surface du mur extérieur et la surface du mur intérieur sont les mêmes pour chaque mur qui donne sur l'extérieur.\n",
    "Tous les murs ont la même composition, qu’ils soient des murs qui donnent sur l'extérieur ou des murs qui séparent deux pièces.\n",
    "Les fenêtres ont la même composition (simple vitrage)\n",
    "Les HVAC ont la même température de consigne.\n",
    "\n",
    "\n",
    "### III) Plan de l’appartement\n",
    "\n",
    "Le studio que nous allons modéliser est un carré de 5 mètres de côté, il est composé de trois pièces avec des températures différentes ( T1 pour la pièce principale, T2 pour l’entrée et T3 pour la salle de bain).\n",
    "Dans la pièce principale, Il y a une fenêtre qui donne sur l’extérieur, une porte qui donne sur la salle de bain, une porte qui donne sur l’entrée et une HVAC avec une température de consigne Tisp. Elle mesure 5 mètres de longueur et 3 mètres de largeur.\n",
    "Dans la salle de bain, il y a une fenêtre, une porte qui donne sur la pièce principale et une HVAC. Elle mesure 2 mètres de longueur et 2 mètres de largeur.\n",
    "Dans l’entrée , il y a une porte qui donne vers l’extérieur et une porte qui donne sur la pièce principale. 3 mètres de longueur et 2 mètres de largeur.\n",
    "\n",
    "![Image1](plan_du_studio.png).\n",
    "\n",
    "### IV) Description des composants\n",
    "\n",
    "Les murs\n",
    "Comme expliqué dans les hypothèses, tous les murs sont composés exactement pareil: même composant, même épaisseur, seul la surface du mur change pour chaque.\n",
    "\n",
    "Les murs sont composés d’une première partie de béton (“concrete”), puis d’une deuxième partie isolation (“insulation”) (voir les caractéristiques de ces deux composants le tableau). \n",
    "\n",
    "![Image2](composition_du_mur.png).\n",
    "\n",
    "\n",
    "Les fenêtres\n",
    "Nous avons choisi du simple vitrage pour nos fenêtres, elles ont toutes une hauteur de 1,5 mètre, une largeur de 1 mètre et une épaisseur de 0,004 mètre.\n",
    "\n",
    "Les portes\n",
    "Les portes sont toutes faites de bois, elles ont une hauteur de 1,8 mètre et une largeur de 1 mètre et une épaisseur de 0,050 mètre.\n",
    "\n",
    "### V) Modélisation\n",
    "\n",
    "Pour construire notre modèle nous allons utiliser les principes fondamentaux de la thermodynamiques:\n",
    "\n",
    "![Image3](modélisation.png).\n",
    "\n",
    "Modèle thermique du mur\n",
    "\n",
    "![Image4](modèle_thermique_1.png).\n",
    "\n",
    "Le mur échange par convection (flèche bleue) avec le milieu(1), puis un phénomène de conduction(flèche verte) se produit entre le milieu (1) et le milieu du béton(B). La conduction continue entre le milieu du béton et l’isolation (I), puis la conduction traverse l’isolation pour arriver jusqu’au milieu (2). Le mur échange par convection avec le milieu (2).\n",
    "\n",
    "Modèle thermique d’une fenêtre\n",
    "\n",
    "![Image5](modèle_thermique_2.png).\n",
    "\n",
    "Modèle thermique de la porte\n",
    "\n",
    "Pour le modèle de la porte on peut reprendre le modèle du mur mais avec un seul isolant qui est le bois:\n",
    "\n",
    "![Image6](modèle_thermique_3.png).\n",
    "\n",
    "On en déduit un modèle thermique général pour l'ensemble de l’appartement:\n",
    "\n",
    "On décide de modéliser un appartement 3 pièces avec une pièce principale (voir figure 1), un couloir et une salle de bain et on décide de mettre deux contrôleurs, l’un dans la pièce principale et l’autre dans la salle de bain. On obtient donc le schéma suivant :  \n",
    "\n",
    "![Image7](modèle_thermique_4.png).\n",
    "\n",
    "A cela, on ajoute également un système HVAC et donc les conductances suivantes : \n",
    "G56 = G57=Kp  avec Kp le gain du contrôleur et G9 = G36 =VpièceairCp,air . \n",
    "\n",
    "On définit la matrice A avec un nombre de lignes égal au nombre de flux et un nombre de colonnes égal au nombre de nœuds et elle définit le sens des flux que l’on a choisi (voir les flèches sur le schéma général de l'appartement). \n",
    "La matrice G représente les différentes conductances, elle est diagonale et de taille égale au nombre de conductances. \n",
    "La matrice C représente les capacités, c'est -à -dire les lieux où on a un volume qui est défini, elle est de taille égale au nombre de nœuds. \n",
    "Les vecteurs b et f définissent respectivement les sources de températures et les flux entrant/sortant. \n",
    "\n",
    "L’équation du système en régime permanent est la suivante :\n",
    "\n",
    "![Image8](equation.png)."
   ]
  },
  {
   "cell_type": "markdown",
   "id": "5a805ca0",
   "metadata": {},
   "source": [
    "## Choice of controller or not"
   ]
  },
  {
   "cell_type": "code",
   "execution_count": null,
   "id": "be8b7721-790a-4502-8d02-b7dbd5cc68ea",
   "metadata": {},
   "outputs": [],
   "source": [
    "# P-controler gain Choose before running the different parts \n",
    "Kp = 1e4            # almost perfect controller Kp -> ∞\n",
    "#Kp = 1e2             # medium controller\n",
    "#Kp = 1e-3           # no controller Kp -> 0"
   ]
  },
  {
   "cell_type": "markdown",
   "id": "d101012e-cfec-4e3d-9268-03e8cc68fceb",
   "metadata": {},
   "source": [
    "The dimension and surface areas of the building are:"
   ]
  },
  {
   "cell_type": "code",
   "execution_count": null,
   "id": "e81f680f-dfcf-42a7-95f0-25869b407aee",
   "metadata": {},
   "outputs": [],
   "source": [
    "l1 = 5               # m length of the cubic room\n",
    "L1 = 3\n",
    "l2 = 3\n",
    "L2 = 2\n",
    "l3 = 3 \n",
    "L3 = L2 \n",
    "S1 = l1 * L1\n",
    "S2 = l2 * L2\n",
    "S3 = l3 * L3\n",
    "St = S1 + S2 + S3\n",
    "l = 5\n",
    "h = 3\n",
    "S_glass = 1.5\n",
    "S_door = 1.8"
   ]
  },
  {
   "cell_type": "markdown",
   "id": "a87fb7cf-f842-484d-b5d3-9394acbc642f",
   "metadata": {},
   "source": [
    "The building is ventilated; the volumis air flow rate is `Va_dot`: "
   ]
  },
  {
   "cell_type": "code",
   "execution_count": null,
   "id": "0e052998-c323-4124-a60b-4b3f520e9664",
   "metadata": {},
   "outputs": [],
   "source": [
    "Va = l**3           # m³ volume of air\n",
    "ACH = 1             # air changes per hour\n",
    "Va_dot = ACH * Va / 3600    # m³/s air infiltration"
   ]
  },
  {
   "cell_type": "markdown",
   "id": "04249e0b-1f3d-47f5-b8f7-024135cda83b",
   "metadata": {},
   "source": [
    "The thermophysical propoerties of air:"
   ]
  },
  {
   "cell_type": "code",
   "execution_count": null,
   "id": "6b636b8a-a7af-4ebe-9eee-578dea6f7742",
   "metadata": {},
   "outputs": [],
   "source": [
    "air = {'Density': 1.2,                      # kg/m³\n",
    "       'Specific heat': 1000}               # J/kg.K"
   ]
  },
  {
   "cell_type": "markdown",
   "id": "55dcaa59-47e6-4fbd-9c42-ad843a62b4d6",
   "metadata": {},
   "source": [
    "The thermophysical propoerties of the materials and surface areas of the materials in the wall:"
   ]
  },
  {
   "cell_type": "code",
   "execution_count": null,
   "id": "2db86dfc-2fd4-4a32-94b2-a21dcd1286c8",
   "metadata": {},
   "outputs": [],
   "source": [
    "wall = {'Conductivity': [1.4, 0.027, 1.4, 1],  # W/m.K\n",
    "        'Density': [2300, 55, 2500, 0.95],        # kg/m³\n",
    "        'Specific heat': [880, 1210, 750, 1500],  # J/kg.K\n",
    "        'Width': [0.2, 0.08, 0.004, 0.05],}\n",
    "wall = pd.DataFrame(wall, index=['Concrete', 'Insulation', 'Glass', 'Door'])\n",
    "wall"
   ]
  },
  {
   "cell_type": "markdown",
   "id": "6a31b5ac-b975-4c14-b625-e110ee331778",
   "metadata": {},
   "source": [
    "**Thermal coductances**"
   ]
  },
  {
   "cell_type": "code",
   "execution_count": null,
   "id": "ba8c81ea-14e7-4c7f-a3b7-a6a7cc1bf5c0",
   "metadata": {},
   "outputs": [],
   "source": [
    "# ventilation & advection\n",
    "Gv = Va_dot * air['Density'] * air['Specific heat']"
   ]
  },
  {
   "cell_type": "markdown",
   "id": "e0eeaa18-4cbb-4ac3-b7e9-98b3edbb863f",
   "metadata": {},
   "source": [
    "**Incidence matrix**"
   ]
  },
  {
   "cell_type": "code",
   "execution_count": null,
   "id": "beaddf90-558e-45e4-a912-f5db92f2430a",
   "metadata": {},
   "outputs": [],
   "source": [
    "A = np.zeros((56, 46))\n",
    "\n",
    "#Mur 01\n",
    "A[0,0], A[1,0] = 1, -1\n",
    "A[1,1], A[2,1] = 1, -1\n",
    "A[2,2], A[3,2] = 1, -1 \n",
    "A[3,3], A[4,3] = 1, -1\n",
    "A[4,4], A[5,4] = 1, -1\n",
    "\n",
    "A[5,5], A[8,5], A[9,5], A[55,5], A[45,5], A[10,5], A[14,5] = 1,1,1,1,-1,-1,-1\n",
    "\n",
    "#Fenetre 1\n",
    "A[6,6],A[7,6] = 1, -1\n",
    "A[7,7],A[8,7] = 1, -1\n",
    "\n",
    "#Porte 12\n",
    "A[10,8],A[11,8] = 1, -1\n",
    "A[11,9],A[12,9] = 1, -1\n",
    "A[12,10], A[13,10] = 1, -1  \n",
    "\n",
    "#Mur 12\n",
    "A[14,11], A[15,11] = 1, -1\n",
    "A[15,12], A[16,12] = 1, -1\n",
    "A[16,13], A[17,13] = 1, -1\n",
    "A[17,14], A[18,14] = 1, -1\n",
    "A[18,15], A[19,15] = 1, -1\n",
    "\n",
    "A[13,16], A[19,16], A[23,16], A[29,16], A[35,16], A[54,16] = 1,1,1,1,1,1\n",
    "\n",
    "#Porte 02\n",
    "A[20,17], A[21,17] = 1,-1\n",
    "A[21,18], A[22,18] = 1,-1\n",
    "A[22,19], A[23,19] = 1,-1\n",
    "\n",
    "#Mur 02\n",
    "A[24,20], A[25,20] = 1,-1\n",
    "A[25,21], A[26,21] = 1,-1\n",
    "A[26,22], A[27,22] = 1,-1\n",
    "A[27,23], A[28,23] = 1,-1\n",
    "A[28,24], A[29,24] = 1,-1\n",
    "\n",
    "#Mur 32\n",
    "A[30,25], A[31,25] = 1,-1\n",
    "A[31,26], A[32,26] = 1,-1\n",
    "A[32,27], A[33,27] = 1,-1\n",
    "A[33,28], A[34,28] = 1,-1\n",
    "A[34,29], A[35,29] = 1,-1\n",
    "\n",
    "A[41,30],A[44,30], A[50,30], A[51,30], A[30,30] = 1,1,1,-1,-1\n",
    "\n",
    "#Mur 03\n",
    "A[36,31], A[37,31] = 1,-1\n",
    "A[37,32], A[38,32] = 1,-1\n",
    "A[38,33], A[39,33] = 1,-1\n",
    "A[39,34], A[40,34] = 1,-1\n",
    "A[40,35], A[41,35] = 1,-1\n",
    "\n",
    "#Fenetre 3\n",
    "A[42,36], A[43,36] = 1,-1\n",
    "A[43,37], A[44,37] = 1,-1\n",
    "\n",
    "#Mur 31\n",
    "A[45,38], A[46,38] = 1,-1\n",
    "A[46,39], A[47,39] = 1,-1\n",
    "A[47,40], A[48,40] = 1,-1\n",
    "A[48,41], A[49,41] = 1,-1\n",
    "A[49,42], A[50,42] = 1,-1\n",
    "\n",
    "#Porte 32\n",
    "A[51,43], A[52,43] = 1,-1\n",
    "A[52,44], A[53,44] = 1,-1\n",
    "A[53,45], A[54,45] = 1,-1\n",
    "\n",
    "np.set_printoptions(suppress=False)\n",
    "print(A, np.shape(A))\n"
   ]
  },
  {
   "cell_type": "markdown",
   "id": "2c2db9a2-e612-4077-8cb1-9f14a3111fb2",
   "metadata": {},
   "source": [
    "**Conductance matrix**"
   ]
  },
  {
   "cell_type": "code",
   "execution_count": null,
   "id": "bfcaae82-b594-446e-8db4-e8278e4e1268",
   "metadata": {},
   "outputs": [],
   "source": [
    "G = np.zeros((56,56))\n",
    "\n",
    "hout = 10\n",
    "hin = 4\n",
    "\n",
    "G[0,0] = hout * (l1+2*L1)*h\n",
    "G[1,1] = wall['Conductivity']['Concrete'] / (wall['Width']['Concrete'] /2) * (l1+2*L1)*h\n",
    "G[2,2] = G[2,2]\n",
    "G[3,3] = wall['Conductivity']['Insulation'] / (wall['Width']['Insulation'] /2) * (l1+2*L1)*h\n",
    "G[4,4] = G[3,3]\n",
    "G[5,5] = hin * (l1+2*L1)*h\n",
    "\n",
    "G[6,6] = float(1 / (1 / (hout * S_glass)  + 1 / (2 * wall['Conductivity']['Glass'] / wall['Width']['Glass'] * S_glass)))\n",
    "G[7,7] = 2 * wall['Conductivity']['Glass'] / wall['Width']['Glass'] * S_glass\n",
    "G[8,8] = hin * S_glass\n",
    "\n",
    "G[9,9] = Gv \n",
    "\n",
    "G[10,10] = hin * S_door\n",
    "G[11,11] = wall['Conductivity']['Door'] / (wall['Width']['Door'] /2) * S_door\n",
    "G[12,12] = G[11,11]\n",
    "G[13,13] = G[10,10]\n",
    "\n",
    "G[14,14] = hin * l2*h\n",
    "G[15,15] = wall['Conductivity']['Concrete'] / (wall['Width']['Concrete'] /2) * l2*h\n",
    "G[16,16] = G[15,15]\n",
    "G[17,17] = wall['Conductivity']['Insulation'] / (wall['Width']['Insulation'] /2) * l2*h\n",
    "G[18,18] = G[17,17]\n",
    "G[19,19] = G[14,14]\n",
    "\n",
    "G[20,20] = hout * S_door\n",
    "G[21,21] = wall['Conductivity']['Door'] / (wall['Width']['Door'] /2) * S_door\n",
    "G[22,22] = G[21,21]\n",
    "G[23,23] = hin * S_door\n",
    "\n",
    "G[24,24] = hout * (L2+l2)*h\n",
    "G[25,25] = wall['Conductivity']['Concrete'] / (wall['Width']['Concrete'] /2) * (L2+l2)*h\n",
    "G[26,26] = G[25,25]\n",
    "G[27,27] = wall['Conductivity']['Insulation'] / (wall['Width']['Insulation'] /2) * (L2+l2)*h\n",
    "G[28,28] = G[27,27]\n",
    "G[29,29] = hin * (L2+l2)*h\n",
    "\n",
    "G[30,30] = hin * L2*h\n",
    "G[31,31] = wall['Conductivity']['Concrete'] / (wall['Width']['Concrete'] /2) * L2*h\n",
    "G[32,32] = G[31,31]\n",
    "G[33,33] = wall['Conductivity']['Insulation'] / (wall['Width']['Insulation'] /2) * L2*h\n",
    "G[34,34] = G[33,33]\n",
    "G[35,35] = hin * L2*h\n",
    "\n",
    "G[36,36] = hout * (L2+l3)*h\n",
    "G[37,37] = wall['Conductivity']['Concrete'] / (wall['Width']['Concrete'] /2) * (L2+l3)*h\n",
    "G[38,38] = G[37,37]\n",
    "G[39,39] = wall['Conductivity']['Insulation'] / (wall['Width']['Insulation'] /2) * (L2+l3)*h\n",
    "G[40,40] = G[39,39]\n",
    "G[41,41] = hin * (L2+l3)*h\n",
    "\n",
    "G[42,42] = float(1 / (1 / (hout * S_glass)  + 1 / (2 * wall['Conductivity']['Glass'] / wall['Width']['Glass'] * S_glass)))\n",
    "G[43,43] = 2 * wall['Conductivity']['Glass'] / wall['Width']['Glass'] * S_glass\n",
    "G[44,44] = hin * S_glass\n",
    "\n",
    "G[45,45] = hin * l3*h\n",
    "G[46,46] = wall['Conductivity']['Insulation'] / (wall['Width']['Insulation'] /2) * l3*h\n",
    "G[47,47] = G[46,46]\n",
    "G[48,48] = wall['Conductivity']['Concrete'] / (wall['Width']['Concrete'] /2) * l3*h\n",
    "G[49,49] = G[48,48]\n",
    "G[50,50] = hin * l3*h\n",
    "\n",
    "G[51,51] = hin * S_door\n",
    "G[52,52] = wall['Conductivity']['Door'] / (wall['Width']['Door'] /2) * S_door\n",
    "G[53,53] = G[52,52]\n",
    "G[54,54] = hin * S_door\n",
    "\n",
    "G[55,55] = Kp\n",
    "\n",
    "print(G, np.shape(G))"
   ]
  },
  {
   "cell_type": "markdown",
   "id": "0d0d7f02-bc07-497f-a66b-0f07682530fb",
   "metadata": {},
   "source": [
    "**Capacity matrix**"
   ]
  },
  {
   "cell_type": "code",
   "execution_count": null,
   "id": "ca2b5a02-7d8e-4292-8a91-46a4ffcc3200",
   "metadata": {},
   "outputs": [],
   "source": [
    "Ca = wall['Density'] * wall['Specific heat'] * wall['Width']\n",
    "Ca['Air'] = air['Density'] * air['Specific heat']\n",
    "\n",
    "C = np.zeros((46,46))\n",
    "C[1][1] = wall['Density']['Concrete'] * wall['Specific heat']['Concrete'] * wall['Width']['Concrete'] * (l1+2*L1)*h\n",
    "C[3][3] = wall['Density']['Insulation'] * wall['Specific heat']['Insulation'] * wall['Width']['Insulation'] * (l1+2*L1)*h\n",
    "C[5][5] = Ca['Air'] * (l1*L1)*h\n",
    "C[6][6] = Ca['Glass'] * S_glass\n",
    "C[9][9] = wall['Density']['Door'] * wall['Specific heat']['Door'] * wall['Width']['Door'] * S_door\n",
    "C[12][12] = wall['Density']['Concrete'] * wall['Specific heat']['Concrete'] * wall['Width']['Concrete'] * l2*h\n",
    "C[14][14] = wall['Density']['Insulation'] * wall['Specific heat']['Insulation'] * wall['Width']['Insulation'] * l2*h\n",
    "C[16][16] = Ca['Air'] * (l2*L2)*h\n",
    "C[18][18] = wall['Density']['Door'] * wall['Specific heat']['Door'] * wall['Width']['Door'] * S_door\n",
    "C[21][21] = wall['Density']['Concrete'] * wall['Specific heat']['Concrete'] * wall['Width']['Concrete'] * (l2+L2)*h\n",
    "C[23][23] = wall['Density']['Insulation'] * wall['Specific heat']['Insulation'] * wall['Width']['Insulation'] * (l2+L2)*h\n",
    "C[26][26] = wall['Density']['Concrete'] * wall['Specific heat']['Concrete'] * wall['Width']['Concrete'] * l3*h\n",
    "C[28][28] = wall['Density']['Insulation'] * wall['Specific heat']['Insulation'] * wall['Width']['Insulation'] * l3*h\n",
    "C[30][30] = Ca['Air'] * (l3*L3)*h\n",
    "C[32][32] = wall['Density']['Concrete'] * wall['Specific heat']['Concrete'] * wall['Width']['Concrete'] * (l3+L3)*h\n",
    "C[34][34] = wall['Density']['Insulation'] * wall['Specific heat']['Insulation'] * wall['Width']['Insulation'] * (l3+L3)*h\n",
    "C[36][36] = Ca['Glass'] * S_glass\n",
    "C[39][39] = wall['Density']['Insulation'] * wall['Specific heat']['Insulation'] * wall['Width']['Insulation'] * l3*h\n",
    "C[41][41] = wall['Density']['Concrete'] * wall['Specific heat']['Concrete'] * wall['Width']['Concrete'] * l3*h\n",
    "C[44][44] = wall['Density']['Door'] * wall['Specific heat']['Door'] * wall['Width']['Door'] * S_door\n",
    "\n",
    "print(C, np.shape(C))"
   ]
  },
  {
   "cell_type": "markdown",
   "id": "efedaf69-3d44-427b-8901-0a68be3edabd",
   "metadata": {
    "tags": []
   },
   "source": [
    "**Input vector**\n",
    "\n",
    "The vector of *temperature sources* is **b**. It has the size of the number of branches (in this example 12) and it's element corresponding to a branch without a source is zero. If the flow in a source is from low potential to high potential (i.e. from - to +), the source is positive [🔗](https://en.wikipedia.org/wiki/Passive_sign_convention) . Let's give some arbitrary non-zero values to the temperature sources:"
   ]
  },
  {
   "cell_type": "code",
   "execution_count": null,
   "id": "0c50c546-b80e-4a88-83e2-bac965021651",
   "metadata": {},
   "outputs": [],
   "source": [
    "Tout = 273 + 14\n",
    "Tref = 273 + 14\n",
    "b = np.zeros(56)\n",
    "b[[0, 6, 9, 55, 20, 24, 36, 42]] = Tout,Tout,Tout,Tout,Tout,Tref,Tout,Tout"
   ]
  },
  {
   "cell_type": "markdown",
   "id": "236ad1c6-64ac-4e42-b7cb-46be011ccc75",
   "metadata": {
    "tags": []
   },
   "source": [
    "The vector of *heat sources* is **f**. It has the size of the number of nodes (in this example 8) and its element corresponding to a node without a heat source is zero. Let's give some arbitrary non-zero values to the heat sources:"
   ]
  },
  {
   "cell_type": "code",
   "execution_count": null,
   "id": "5215c4c8-82d1-4bbe-aa4f-ba791b6b1b92",
   "metadata": {
    "tags": []
   },
   "outputs": [],
   "source": [
    "f=np.zeros(46)\n",
    "f[[0,4,5,6,8,10,11,15,17,19,20,24,25,29,31,35,36,38,42,43,45]] = 1,1,1,1,1,1,1,1,1,1,1,1,1,1,1,1,1,1,1,1,1\n",
    "f=np.zeros(46)"
   ]
  },
  {
   "cell_type": "markdown",
   "id": "5dee59ff-9153-498a-ab9b-a1bedb6b5d35",
   "metadata": {},
   "source": [
    "The vector of outputs is **y**. It has the size of the number of nodes (in this example 8). The non-zero values of **y** indicate the nodes that are the outputs of the model. Let's assume that all temperatures are of interest:"
   ]
  },
  {
   "cell_type": "code",
   "execution_count": null,
   "id": "6ced5a80-70fb-4c74-b3ad-54003c038871",
   "metadata": {},
   "outputs": [],
   "source": [
    "y = np.ones(46)"
   ]
  },
  {
   "cell_type": "markdown",
   "id": "a29cd51c-08bf-4395-a070-d2c074eee82d",
   "metadata": {
    "tags": []
   },
   "source": [
    "The inputs vector **u** is:\n",
    "\n",
    "$$\\mathbf{u} = \\begin{bmatrix}\n",
    "\\mathbf{b}\\\\ \n",
    "\\mathbf{f}\n",
    "\\end{bmatrix}$$\n",
    "\n",
    "where **b** is  the vector of temperature sources and **f** the vector of heat flow sources. Note that in Python, a vector is a row. The **u** vector is obtained as an horizontal stack of the sources that are in the circuit (non-zero elements of **b** and **f**):"
   ]
  },
  {
   "cell_type": "code",
   "execution_count": null,
   "id": "3780da0d-8598-4f86-bb83-fc64e91fede7",
   "metadata": {},
   "outputs": [],
   "source": [
    "u = np.hstack([b[np.nonzero(b)], f[np.nonzero(f)]])\n",
    "u"
   ]
  },
  {
   "cell_type": "markdown",
   "id": "deea7b37-b7b8-4a43-9c86-67bf168161c1",
   "metadata": {},
   "source": [
    "## State-space model without controller"
   ]
  },
  {
   "cell_type": "code",
   "execution_count": null,
   "id": "23c9de06-8be7-4dff-a734-027c31349e27",
   "metadata": {},
   "outputs": [],
   "source": [
    "[As, Bs, Cs, Ds] = dm4bem.tc2ss(A, G, b, C, f, y)"
   ]
  },
  {
   "cell_type": "code",
   "execution_count": null,
   "id": "2fc42d76-0926-4d1d-8444-7ed43b961022",
   "metadata": {},
   "outputs": [],
   "source": [
    "temperatures_ss = np.linalg.inv(A.T @ G @ A) @ (A.T @ G @ b)\n",
    "\n",
    "print('without controller and with Text = 14°C')\n",
    "print(temperatures_ss)"
   ]
  },
  {
   "cell_type": "code",
   "execution_count": null,
   "id": "ab6b797e",
   "metadata": {},
   "outputs": [],
   "source": [
    "yss = (-Cs @ np.linalg.inv(As) @ Bs + Ds) @ u\n",
    "ytc = np.linalg.inv(A.T @ G @ A) @ (A.T @ G @ b + f)\n",
    "\n",
    "print(np.array_str(yss, precision=3, suppress_small=True))\n",
    "print(np.array_str(ytc, precision=3, suppress_small=True))\n",
    "print(f'Max error in steady-state between thermal circuit and state-space:\\\n",
    " {max(abs(yss - ytc)):.2e}')"
   ]
  },
  {
   "cell_type": "markdown",
   "id": "5aa57452",
   "metadata": {},
   "source": [
    "## Dynamic model with controller"
   ]
  },
  {
   "cell_type": "code",
   "execution_count": null,
   "id": "3919128b",
   "metadata": {},
   "outputs": [],
   "source": [
    "b = np.zeros(56)\n",
    "b[[0, 6, 9, 55, 20, 24, 36, 42]] = 1\n",
    "f = np.zeros(46)\n",
    "f[[0,4,5,6,8,10,11,15,17,19,20,24,25,29,31,35,36,38,42,43,45]] = 1,1,1,1,1,1,1,1,1,1,1,1,1,1,1,1,1,1,1,1,1"
   ]
  },
  {
   "cell_type": "code",
   "execution_count": null,
   "id": "69180698",
   "metadata": {},
   "outputs": [],
   "source": [
    "y=np.zeros(46)\n",
    "y[[5]]=1"
   ]
  },
  {
   "cell_type": "code",
   "execution_count": null,
   "id": "f8287699",
   "metadata": {},
   "outputs": [],
   "source": [
    "[As, Bs, Cs, Ds] = dm4bem.tc2ss(A, G, b, C, f, y)\n",
    "#print(Bs)\n",
    "np.shape(Bs)"
   ]
  },
  {
   "cell_type": "code",
   "execution_count": null,
   "id": "10648676",
   "metadata": {},
   "outputs": [],
   "source": [
    "dtmax = min(-2. / np.linalg.eig(As)[0])\n",
    "print(f'Maximum time step: {dtmax:.2f} s')"
   ]
  },
  {
   "cell_type": "code",
   "execution_count": null,
   "id": "65c26a2f",
   "metadata": {},
   "outputs": [],
   "source": [
    "dt=4 #Need to choose dt < dtmax\n",
    "duration = 3600 * 24 * 5        # [s]\n",
    "n = int(np.floor(duration / dt))\n",
    "print(n)\n",
    "t = np.arange(0, n * dt, dt)    # time\n",
    "\n",
    "# Vectors of state and input (in time)\n",
    "n_tC = As.shape[0]              # no of state variables (temps with capacity)\n",
    "# u = [Tout,Tout,Tout,Tref,Tout,Tout,Tout,Tout,f[0,4,5,6,8,10,11,15,17,19,20,24,25,29,31,35,36,38,42,43,45]]\n",
    "u = np.zeros([29, n])\n",
    "u[0:3, :] = np.ones([3, n])\n",
    "u[4:8, :] = np.ones([4, n])\n",
    "print (u[:,1])\n",
    "print(np.shape(u))\n",
    "\n",
    "temp_exp = np.zeros([n_tC, t.shape[0]])\n",
    "temp_imp = np.zeros([n_tC, t.shape[0]])"
   ]
  },
  {
   "cell_type": "code",
   "execution_count": null,
   "id": "dfd2e797",
   "metadata": {},
   "outputs": [],
   "source": [
    "I = np.eye(n_tC)\n",
    "print(np.shape(Bs), np.shape(u))\n",
    "for k in range(n - 1):\n",
    "    temp_exp[:, k + 1] = (I + dt * As) @\\\n",
    "        temp_exp[:, k] + dt * Bs @ u[:, k]\n",
    "    temp_imp[:, k + 1] = np.linalg.inv(I - dt * As) @\\\n",
    "        (temp_imp[:, k] + dt * Bs @ u[:, k])"
   ]
  },
  {
   "cell_type": "code",
   "execution_count": null,
   "id": "5d2e65f9",
   "metadata": {},
   "outputs": [],
   "source": [
    "y_exp = Cs @ temp_exp + Ds @  u\n",
    "y_imp = Cs @ temp_imp + Ds @  u\n",
    "\n",
    "fig, ax = plt.subplots()\n",
    "ax.plot(t / 3600, y_exp.T, t / 3600, y_imp.T)\n",
    "ax.set(xlabel='Time [h]',\n",
    "       ylabel='$T_i$ [°C]',\n",
    "       title='Step input: To = 1°C')\n",
    "plt.show()"
   ]
  },
  {
   "cell_type": "code",
   "execution_count": null,
   "id": "152dd79d",
   "metadata": {},
   "outputs": [],
   "source": [
    "ytc = np.linalg.inv(A.T @ G @ A) @ (A.T @ G @ b + f)\n",
    "print('Steady-state indoor temperature obtained with:')\n",
    "print(f'- DAE model: {ytc[6]:.4f} °C')\n",
    "print(f'- response to step input:{float(y_exp[:, -2]):.4f} °C')"
   ]
  },
  {
   "cell_type": "markdown",
   "id": "81c8b957",
   "metadata": {},
   "source": [
    "## Simulation with weather data"
   ]
  },
  {
   "cell_type": "code",
   "execution_count": null,
   "id": "40291eff",
   "metadata": {},
   "outputs": [],
   "source": [
    "filename = 'FRA_Lyon.074810_IWEC.epw'\n",
    "start_date = '2000-01-03 12:00:00'\n",
    "end_date = '2000-02-05 18:00:00'\n",
    "\n",
    "# Read weather data from Energyplus .epw file\n",
    "[data, meta] = dm4bem.read_epw(filename, coerce_year=None)\n",
    "weather = data[[\"temp_air\", \"dir_n_rad\", \"dif_h_rad\"]]\n",
    "del data\n",
    "weather.index = weather.index.map(lambda t: t.replace(year=2000))\n",
    "weather = weather[(weather.index >= start_date) & (\n",
    "    weather.index < end_date)]"
   ]
  },
  {
   "cell_type": "code",
   "execution_count": null,
   "id": "1048105b",
   "metadata": {},
   "outputs": [],
   "source": [
    "surface_orientation = {'slope': 90,\n",
    "                       'azimuth': 0,\n",
    "                       'latitude': 45}\n",
    "albedo = 0.2\n",
    "rad_surf1 = dm4bem.sol_rad_tilt_surf(weather, surface_orientation, albedo)\n",
    "rad_surf1['Φt1'] = rad_surf1.sum(axis=1)"
   ]
  },
  {
   "cell_type": "code",
   "execution_count": null,
   "id": "b9847d3a",
   "metadata": {},
   "outputs": [],
   "source": [
    "data = pd.concat([weather['temp_air'], rad_surf1['Φt1']], axis=1)\n",
    "data = data.resample(str(dt) + 'S').interpolate(method='linear')\n",
    "data = data.rename(columns={'temp_air': 'To'})"
   ]
  },
  {
   "cell_type": "code",
   "execution_count": null,
   "id": "b2914d92",
   "metadata": {},
   "outputs": [],
   "source": [
    "data['Ti'] = 20 * np.ones(data.shape[0])\n",
    "data['Qa'] = 0 * np.ones(data.shape[0])"
   ]
  },
  {
   "cell_type": "code",
   "execution_count": null,
   "id": "9c60bb9b",
   "metadata": {},
   "outputs": [],
   "source": [
    "t = dt * np.arange(data.shape[0])"
   ]
  },
  {
   "cell_type": "code",
   "execution_count": null,
   "id": "18677ab9",
   "metadata": {},
   "outputs": [],
   "source": [
    "ε_wLW = 0.9     # long wave wall emmisivity (concrete)\n",
    "α_wSW = 0.2     # absortivity white surface\n",
    "ε_gLW = 0.9     # long wave glass emmisivity (glass pyrex)\n",
    "τ_gSW = 0.83    # short wave glass transmitance (glass)\n",
    "α_gSW = 0.1     # short wave glass absortivity\n",
    "σ = 5.67e-8     # W/m².K⁴ Stefan-Bolzmann constant\n",
    "Fwg = 1 / 5     # view factor wall - glass"
   ]
  },
  {
   "cell_type": "code",
   "execution_count": null,
   "id": "a97cb622",
   "metadata": {},
   "outputs": [],
   "source": [
    "u = pd.concat([data['To'], data['To'], data['To'], data['Ti'], data['To'], data['To'], data['To'], data['To'],\n",
    "               α_wSW * (l1+2*L1)*h * data['Φt1'], α_wSW * (l1+2*L1)*h * data['Φt1'], data['Qa'],\n",
    "               τ_gSW * α_wSW * S_glass * data['Φt1'], α_wSW * S_door * data['Φt1'], α_wSW * S_door * data['Φt1'],\n",
    "               α_wSW * l2*h * data['Φt1'], α_wSW * l2*h * data['Φt1'], \n",
    "               α_wSW * S_door * data['Φt1'], α_wSW * S_door * data['Φt1'],\n",
    "               α_wSW * (L2+l2)*h * data['Φt1'], α_wSW * (L2+l2)*h * data['Φt1'], \n",
    "               α_wSW * L2*h * data['Φt1'], α_wSW * L2*h * data['Φt1'], \n",
    "               α_wSW * (L2+l3)*h * data['Φt1'], α_wSW * (L2+l3)*h * data['Φt1'], \n",
    "               τ_gSW * α_wSW * S_glass * data['Φt1'], \n",
    "               α_wSW * l3*h * data['Φt1'], α_wSW * l3*h * data['Φt1'], \n",
    "               α_wSW * S_door * data['Φt1'], α_wSW * S_door * data['Φt1']], axis=1)\n",
    "print(np.shape(u))"
   ]
  },
  {
   "cell_type": "code",
   "execution_count": null,
   "id": "6fdf1887",
   "metadata": {},
   "outputs": [],
   "source": [
    "temp_exp = 20 * np.ones([As.shape[0], u.shape[0]])"
   ]
  },
  {
   "cell_type": "code",
   "execution_count": null,
   "id": "1a09d374",
   "metadata": {},
   "outputs": [],
   "source": [
    "for k in range(u.shape[0] - 1):\n",
    "    temp_exp[:, k + 1] = (I + dt * As) @ temp_exp[:, k]\\\n",
    "        + dt * Bs @ u.iloc[k, :]"
   ]
  },
  {
   "cell_type": "code",
   "execution_count": null,
   "id": "32c551da",
   "metadata": {},
   "outputs": [],
   "source": [
    "y_exp = Cs @ temp_exp + Ds @ u.to_numpy().T\n",
    "q_HVAC = Kp * (data['Ti'] - y_exp[0, :])\n",
    "\n",
    "fig, axs = plt.subplots(2, 1)\n",
    "# plot indoor and outdoor temperature\n",
    "axs[0].plot(t / 3600, y_exp[0, :], label='$T_{indoor}$')\n",
    "axs[0].plot(t / 3600, data['To'], label='$T_{outdoor}$')\n",
    "axs[0].set(xlabel='Time [h]',\n",
    "           ylabel='Temperatures [°C]',\n",
    "           title='Simulation for weather')\n",
    "axs[0].legend(loc='upper right')\n",
    "\n",
    "# plot total solar radiation and HVAC heat flow\n",
    "axs[1].plot(t / 3600,  q_HVAC, label='$q_{HVAC}$')\n",
    "axs[1].plot(t / 3600, data['Φt1'], label='$Φ_{total}$')\n",
    "axs[1].set(xlabel='Time [h]',\n",
    "           ylabel='Heat flows [W]')\n",
    "axs[1].legend(loc='upper right')\n",
    "\n",
    "fig.tight_layout()"
   ]
  },
  {
   "cell_type": "code",
   "execution_count": null,
   "id": "cbfb5f2e",
   "metadata": {},
   "outputs": [],
   "source": []
  }
 ],
 "metadata": {
  "kernelspec": {
   "display_name": "Python 3 (ipykernel)",
   "language": "python",
   "name": "python3"
  },
  "language_info": {
   "codemirror_mode": {
    "name": "ipython",
    "version": 3
   },
   "file_extension": ".py",
   "mimetype": "text/x-python",
   "name": "python",
   "nbconvert_exporter": "python",
   "pygments_lexer": "ipython3",
   "version": "3.10.5"
  }
 },
 "nbformat": 4,
 "nbformat_minor": 5
}
